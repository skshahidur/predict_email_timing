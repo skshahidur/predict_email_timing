{
 "cells": [
  {
   "cell_type": "markdown",
   "metadata": {},
   "source": [
    "##### This notebook is dedicated towards the case study for Pair Finance email delivering service. The problem statement is to optimize the responsiveness of the users. \n",
    "The work is divided in following sections\n",
    "    1. Data processing for user level summarization\n",
    "    2. Define the logic for assigning user behavior for mail reverts. i.e. define the time window as the user affinity\n",
    "        2.1 Rules for defining affinity for a person. This is funnel approach, so users are tagged on successive iterations.\n",
    "        2.2 Combine rule for the different types of users\n",
    "    3. Building data pipeline for data processing\n",
    "    4. Modeling with XGBoost regressor\n",
    "    5. Result analysis\n",
    "    6. Package creation"
   ]
  },
  {
   "cell_type": "code",
   "execution_count": 1,
   "metadata": {
    "ExecuteTime": {
     "end_time": "2020-01-21T01:48:16.114496Z",
     "start_time": "2020-01-21T01:48:14.045458Z"
    }
   },
   "outputs": [
    {
     "data": {
      "text/html": [
       "<style>.container { width:90% !important; }</style>"
      ],
      "text/plain": [
       "<IPython.core.display.HTML object>"
      ]
     },
     "metadata": {},
     "output_type": "display_data"
    }
   ],
   "source": [
    "from IPython.core.display import display, HTML\n",
    "display(HTML(\"<style>.container { width:90% !important; }</style>\"))\n",
    "\n",
    "%load_ext autoreload\n",
    "%autoreload 2\n",
    "\n",
    "import numpy as np\n",
    "import pandas as pd\n",
    "\n",
    "pd.set_option('display.width', 1000)\n",
    "pd.set_option('display.max_columns', 1000)\n",
    "pd.set_option('display.max_rows', 1000)\n",
    "\n",
    "import matplotlib.pyplot as plt\n",
    "%matplotlib inline"
   ]
  },
  {
   "cell_type": "code",
   "execution_count": 2,
   "metadata": {
    "ExecuteTime": {
     "end_time": "2020-01-21T01:48:17.716101Z",
     "start_time": "2020-01-21T01:48:16.117594Z"
    }
   },
   "outputs": [],
   "source": [
    "# !pip install jupyterthemes\n",
    "!jt -t onedork"
   ]
  },
  {
   "cell_type": "code",
   "execution_count": 3,
   "metadata": {
    "ExecuteTime": {
     "end_time": "2020-01-21T01:48:18.417027Z",
     "start_time": "2020-01-21T01:48:17.723437Z"
    }
   },
   "outputs": [],
   "source": [
    "# Read the data\n",
    "raw_data = pd.read_csv(\"/Users/sheikhshahidurrahman/Documents/DataScience/Pair_Finance/data/data.csv\",\n",
    "                                na_values = ['NA', 'na', 'nan', 'NaN', 'Nan', np.nan, np.inf, 'missing', 'NULL', 'null', 'Null', None, \n",
    "                                            'None', 'none', ' ', ''],\n",
    "                                low_memory=False\n",
    "                               )"
   ]
  },
  {
   "cell_type": "code",
   "execution_count": 4,
   "metadata": {
    "ExecuteTime": {
     "end_time": "2020-01-21T01:48:18.498142Z",
     "start_time": "2020-01-21T01:48:18.419877Z"
    }
   },
   "outputs": [
    {
     "data": {
      "text/html": [
       "<div>\n",
       "<style scoped>\n",
       "    .dataframe tbody tr th:only-of-type {\n",
       "        vertical-align: middle;\n",
       "    }\n",
       "\n",
       "    .dataframe tbody tr th {\n",
       "        vertical-align: top;\n",
       "    }\n",
       "\n",
       "    .dataframe thead th {\n",
       "        text-align: right;\n",
       "    }\n",
       "</style>\n",
       "<table border=\"1\" class=\"dataframe\">\n",
       "  <thead>\n",
       "    <tr style=\"text-align: right;\">\n",
       "      <th></th>\n",
       "      <th>X1</th>\n",
       "      <th>X2</th>\n",
       "      <th>X3</th>\n",
       "      <th>M</th>\n",
       "      <th>TS00</th>\n",
       "      <th>TO00</th>\n",
       "      <th>TS01</th>\n",
       "      <th>TO01</th>\n",
       "      <th>TS02</th>\n",
       "      <th>TO02</th>\n",
       "      <th>TS03</th>\n",
       "      <th>TO03</th>\n",
       "      <th>TS04</th>\n",
       "      <th>TO04</th>\n",
       "      <th>TS05</th>\n",
       "      <th>TO05</th>\n",
       "      <th>TS06</th>\n",
       "      <th>TO06</th>\n",
       "      <th>TS07</th>\n",
       "      <th>TO07</th>\n",
       "      <th>TS08</th>\n",
       "      <th>TO08</th>\n",
       "      <th>TS09</th>\n",
       "      <th>TO09</th>\n",
       "      <th>TS10</th>\n",
       "      <th>TO10</th>\n",
       "      <th>TS11</th>\n",
       "      <th>TO11</th>\n",
       "      <th>TS12</th>\n",
       "      <th>TO12</th>\n",
       "      <th>TS13</th>\n",
       "      <th>TO13</th>\n",
       "      <th>TS14</th>\n",
       "      <th>TO14</th>\n",
       "    </tr>\n",
       "  </thead>\n",
       "  <tbody>\n",
       "    <tr>\n",
       "      <th>0</th>\n",
       "      <td>-1.25</td>\n",
       "      <td>-0.88</td>\n",
       "      <td>2</td>\n",
       "      <td>14</td>\n",
       "      <td>14:00</td>\n",
       "      <td>22:27</td>\n",
       "      <td>18:00</td>\n",
       "      <td>14:37</td>\n",
       "      <td>13:00</td>\n",
       "      <td>09:39</td>\n",
       "      <td>17:00</td>\n",
       "      <td>11:58</td>\n",
       "      <td>11:00</td>\n",
       "      <td>07:47</td>\n",
       "      <td>18:00</td>\n",
       "      <td>21:27</td>\n",
       "      <td>14:00</td>\n",
       "      <td>09:57</td>\n",
       "      <td>19:00</td>\n",
       "      <td>20:13</td>\n",
       "      <td>14:00</td>\n",
       "      <td>19:39</td>\n",
       "      <td>18:00</td>\n",
       "      <td>15:42</td>\n",
       "      <td>10:00</td>\n",
       "      <td>21:29</td>\n",
       "      <td>10:00</td>\n",
       "      <td>08:47</td>\n",
       "      <td>15:00</td>\n",
       "      <td>10:06</td>\n",
       "      <td>10:00</td>\n",
       "      <td>09:14</td>\n",
       "      <td>NaN</td>\n",
       "      <td>NaN</td>\n",
       "    </tr>\n",
       "    <tr>\n",
       "      <th>1</th>\n",
       "      <td>-0.14</td>\n",
       "      <td>-3.21</td>\n",
       "      <td>0</td>\n",
       "      <td>1</td>\n",
       "      <td>17:00</td>\n",
       "      <td>17:11</td>\n",
       "      <td>NaN</td>\n",
       "      <td>NaN</td>\n",
       "      <td>NaN</td>\n",
       "      <td>NaN</td>\n",
       "      <td>NaN</td>\n",
       "      <td>NaN</td>\n",
       "      <td>NaN</td>\n",
       "      <td>NaN</td>\n",
       "      <td>NaN</td>\n",
       "      <td>NaN</td>\n",
       "      <td>NaN</td>\n",
       "      <td>NaN</td>\n",
       "      <td>NaN</td>\n",
       "      <td>NaN</td>\n",
       "      <td>NaN</td>\n",
       "      <td>NaN</td>\n",
       "      <td>NaN</td>\n",
       "      <td>NaN</td>\n",
       "      <td>NaN</td>\n",
       "      <td>NaN</td>\n",
       "      <td>NaN</td>\n",
       "      <td>NaN</td>\n",
       "      <td>NaN</td>\n",
       "      <td>NaN</td>\n",
       "      <td>NaN</td>\n",
       "      <td>NaN</td>\n",
       "      <td>NaN</td>\n",
       "      <td>NaN</td>\n",
       "    </tr>\n",
       "    <tr>\n",
       "      <th>2</th>\n",
       "      <td>1.23</td>\n",
       "      <td>0.08</td>\n",
       "      <td>3</td>\n",
       "      <td>1</td>\n",
       "      <td>19:00</td>\n",
       "      <td>09:22</td>\n",
       "      <td>NaN</td>\n",
       "      <td>NaN</td>\n",
       "      <td>NaN</td>\n",
       "      <td>NaN</td>\n",
       "      <td>NaN</td>\n",
       "      <td>NaN</td>\n",
       "      <td>NaN</td>\n",
       "      <td>NaN</td>\n",
       "      <td>NaN</td>\n",
       "      <td>NaN</td>\n",
       "      <td>NaN</td>\n",
       "      <td>NaN</td>\n",
       "      <td>NaN</td>\n",
       "      <td>NaN</td>\n",
       "      <td>NaN</td>\n",
       "      <td>NaN</td>\n",
       "      <td>NaN</td>\n",
       "      <td>NaN</td>\n",
       "      <td>NaN</td>\n",
       "      <td>NaN</td>\n",
       "      <td>NaN</td>\n",
       "      <td>NaN</td>\n",
       "      <td>NaN</td>\n",
       "      <td>NaN</td>\n",
       "      <td>NaN</td>\n",
       "      <td>NaN</td>\n",
       "      <td>NaN</td>\n",
       "      <td>NaN</td>\n",
       "    </tr>\n",
       "    <tr>\n",
       "      <th>3</th>\n",
       "      <td>-0.38</td>\n",
       "      <td>-1.30</td>\n",
       "      <td>3</td>\n",
       "      <td>2</td>\n",
       "      <td>12:00</td>\n",
       "      <td>12:38</td>\n",
       "      <td>08:00</td>\n",
       "      <td>09:04</td>\n",
       "      <td>NaN</td>\n",
       "      <td>NaN</td>\n",
       "      <td>NaN</td>\n",
       "      <td>NaN</td>\n",
       "      <td>NaN</td>\n",
       "      <td>NaN</td>\n",
       "      <td>NaN</td>\n",
       "      <td>NaN</td>\n",
       "      <td>NaN</td>\n",
       "      <td>NaN</td>\n",
       "      <td>NaN</td>\n",
       "      <td>NaN</td>\n",
       "      <td>NaN</td>\n",
       "      <td>NaN</td>\n",
       "      <td>NaN</td>\n",
       "      <td>NaN</td>\n",
       "      <td>NaN</td>\n",
       "      <td>NaN</td>\n",
       "      <td>NaN</td>\n",
       "      <td>NaN</td>\n",
       "      <td>NaN</td>\n",
       "      <td>NaN</td>\n",
       "      <td>NaN</td>\n",
       "      <td>NaN</td>\n",
       "      <td>NaN</td>\n",
       "      <td>NaN</td>\n",
       "    </tr>\n",
       "    <tr>\n",
       "      <th>4</th>\n",
       "      <td>-1.50</td>\n",
       "      <td>0.22</td>\n",
       "      <td>2</td>\n",
       "      <td>6</td>\n",
       "      <td>14:00</td>\n",
       "      <td>21:59</td>\n",
       "      <td>11:00</td>\n",
       "      <td>17:01</td>\n",
       "      <td>15:00</td>\n",
       "      <td>23:47</td>\n",
       "      <td>10:00</td>\n",
       "      <td>11:43</td>\n",
       "      <td>14:00</td>\n",
       "      <td>19:42</td>\n",
       "      <td>08:00</td>\n",
       "      <td>18:02</td>\n",
       "      <td>NaN</td>\n",
       "      <td>NaN</td>\n",
       "      <td>NaN</td>\n",
       "      <td>NaN</td>\n",
       "      <td>NaN</td>\n",
       "      <td>NaN</td>\n",
       "      <td>NaN</td>\n",
       "      <td>NaN</td>\n",
       "      <td>NaN</td>\n",
       "      <td>NaN</td>\n",
       "      <td>NaN</td>\n",
       "      <td>NaN</td>\n",
       "      <td>NaN</td>\n",
       "      <td>NaN</td>\n",
       "      <td>NaN</td>\n",
       "      <td>NaN</td>\n",
       "      <td>NaN</td>\n",
       "      <td>NaN</td>\n",
       "    </tr>\n",
       "  </tbody>\n",
       "</table>\n",
       "</div>"
      ],
      "text/plain": [
       "     X1    X2  X3   M   TS00   TO00   TS01   TO01   TS02   TO02   TS03   TO03   TS04   TO04   TS05   TO05   TS06   TO06   TS07   TO07   TS08   TO08   TS09   TO09   TS10   TO10   TS11   TO11   TS12   TO12   TS13   TO13 TS14 TO14\n",
       "0 -1.25 -0.88   2  14  14:00  22:27  18:00  14:37  13:00  09:39  17:00  11:58  11:00  07:47  18:00  21:27  14:00  09:57  19:00  20:13  14:00  19:39  18:00  15:42  10:00  21:29  10:00  08:47  15:00  10:06  10:00  09:14  NaN  NaN\n",
       "1 -0.14 -3.21   0   1  17:00  17:11    NaN    NaN    NaN    NaN    NaN    NaN    NaN    NaN    NaN    NaN    NaN    NaN    NaN    NaN    NaN    NaN    NaN    NaN    NaN    NaN    NaN    NaN    NaN    NaN    NaN    NaN  NaN  NaN\n",
       "2  1.23  0.08   3   1  19:00  09:22    NaN    NaN    NaN    NaN    NaN    NaN    NaN    NaN    NaN    NaN    NaN    NaN    NaN    NaN    NaN    NaN    NaN    NaN    NaN    NaN    NaN    NaN    NaN    NaN    NaN    NaN  NaN  NaN\n",
       "3 -0.38 -1.30   3   2  12:00  12:38  08:00  09:04    NaN    NaN    NaN    NaN    NaN    NaN    NaN    NaN    NaN    NaN    NaN    NaN    NaN    NaN    NaN    NaN    NaN    NaN    NaN    NaN    NaN    NaN    NaN    NaN  NaN  NaN\n",
       "4 -1.50  0.22   2   6  14:00  21:59  11:00  17:01  15:00  23:47  10:00  11:43  14:00  19:42  08:00  18:02    NaN    NaN    NaN    NaN    NaN    NaN    NaN    NaN    NaN    NaN    NaN    NaN    NaN    NaN    NaN    NaN  NaN  NaN"
      ]
     },
     "execution_count": 4,
     "metadata": {},
     "output_type": "execute_result"
    }
   ],
   "source": [
    "raw_data.head()"
   ]
  },
  {
   "cell_type": "code",
   "execution_count": 5,
   "metadata": {
    "ExecuteTime": {
     "end_time": "2020-01-21T01:48:18.546078Z",
     "start_time": "2020-01-21T01:48:18.500687Z"
    }
   },
   "outputs": [
    {
     "name": "stdout",
     "output_type": "stream",
     "text": [
      "(100000, 34)\n",
      "0    25458\n",
      "3    24904\n",
      "2    24890\n",
      "1    24748\n",
      "Name: X3, dtype: int64\n"
     ]
    }
   ],
   "source": [
    "print(raw_data.shape)\n",
    "print(raw_data.X3.value_counts(dropna=False))"
   ]
  },
  {
   "cell_type": "code",
   "execution_count": 6,
   "metadata": {
    "ExecuteTime": {
     "end_time": "2020-01-21T01:48:18.730718Z",
     "start_time": "2020-01-21T01:48:18.555566Z"
    },
    "scrolled": true
   },
   "outputs": [
    {
     "data": {
      "text/html": [
       "<div>\n",
       "<style scoped>\n",
       "    .dataframe tbody tr th:only-of-type {\n",
       "        vertical-align: middle;\n",
       "    }\n",
       "\n",
       "    .dataframe tbody tr th {\n",
       "        vertical-align: top;\n",
       "    }\n",
       "\n",
       "    .dataframe thead th {\n",
       "        text-align: right;\n",
       "    }\n",
       "</style>\n",
       "<table border=\"1\" class=\"dataframe\">\n",
       "  <thead>\n",
       "    <tr style=\"text-align: right;\">\n",
       "      <th></th>\n",
       "      <th>id</th>\n",
       "      <th>X1</th>\n",
       "      <th>X2</th>\n",
       "      <th>X3</th>\n",
       "      <th>M</th>\n",
       "      <th>TS00</th>\n",
       "      <th>TO00</th>\n",
       "      <th>TS01</th>\n",
       "      <th>TO01</th>\n",
       "      <th>TS02</th>\n",
       "      <th>TO02</th>\n",
       "      <th>TS03</th>\n",
       "      <th>TO03</th>\n",
       "      <th>TS04</th>\n",
       "      <th>TO04</th>\n",
       "      <th>TS05</th>\n",
       "      <th>TO05</th>\n",
       "      <th>TS06</th>\n",
       "      <th>TO06</th>\n",
       "      <th>TS07</th>\n",
       "      <th>TO07</th>\n",
       "      <th>TS08</th>\n",
       "      <th>TO08</th>\n",
       "      <th>TS09</th>\n",
       "      <th>TO09</th>\n",
       "      <th>TS10</th>\n",
       "      <th>TO10</th>\n",
       "      <th>TS11</th>\n",
       "      <th>TO11</th>\n",
       "      <th>TS12</th>\n",
       "      <th>TO12</th>\n",
       "      <th>TS13</th>\n",
       "      <th>TO13</th>\n",
       "      <th>TS14</th>\n",
       "      <th>TO14</th>\n",
       "    </tr>\n",
       "  </thead>\n",
       "  <tbody>\n",
       "    <tr>\n",
       "      <th>0</th>\n",
       "      <td>1</td>\n",
       "      <td>-1.25</td>\n",
       "      <td>-0.88</td>\n",
       "      <td>2</td>\n",
       "      <td>14</td>\n",
       "      <td>14:00</td>\n",
       "      <td>22:27</td>\n",
       "      <td>18:00</td>\n",
       "      <td>14:37</td>\n",
       "      <td>13:00</td>\n",
       "      <td>09:39</td>\n",
       "      <td>17:00</td>\n",
       "      <td>11:58</td>\n",
       "      <td>11:00</td>\n",
       "      <td>07:47</td>\n",
       "      <td>18:00</td>\n",
       "      <td>21:27</td>\n",
       "      <td>14:00</td>\n",
       "      <td>09:57</td>\n",
       "      <td>19:00</td>\n",
       "      <td>20:13</td>\n",
       "      <td>14:00</td>\n",
       "      <td>19:39</td>\n",
       "      <td>18:00</td>\n",
       "      <td>15:42</td>\n",
       "      <td>10:00</td>\n",
       "      <td>21:29</td>\n",
       "      <td>10:00</td>\n",
       "      <td>08:47</td>\n",
       "      <td>15:00</td>\n",
       "      <td>10:06</td>\n",
       "      <td>10:00</td>\n",
       "      <td>09:14</td>\n",
       "      <td>NaN</td>\n",
       "      <td>NaN</td>\n",
       "    </tr>\n",
       "    <tr>\n",
       "      <th>1</th>\n",
       "      <td>2</td>\n",
       "      <td>-0.14</td>\n",
       "      <td>-3.21</td>\n",
       "      <td>0</td>\n",
       "      <td>1</td>\n",
       "      <td>17:00</td>\n",
       "      <td>17:11</td>\n",
       "      <td>NaN</td>\n",
       "      <td>NaN</td>\n",
       "      <td>NaN</td>\n",
       "      <td>NaN</td>\n",
       "      <td>NaN</td>\n",
       "      <td>NaN</td>\n",
       "      <td>NaN</td>\n",
       "      <td>NaN</td>\n",
       "      <td>NaN</td>\n",
       "      <td>NaN</td>\n",
       "      <td>NaN</td>\n",
       "      <td>NaN</td>\n",
       "      <td>NaN</td>\n",
       "      <td>NaN</td>\n",
       "      <td>NaN</td>\n",
       "      <td>NaN</td>\n",
       "      <td>NaN</td>\n",
       "      <td>NaN</td>\n",
       "      <td>NaN</td>\n",
       "      <td>NaN</td>\n",
       "      <td>NaN</td>\n",
       "      <td>NaN</td>\n",
       "      <td>NaN</td>\n",
       "      <td>NaN</td>\n",
       "      <td>NaN</td>\n",
       "      <td>NaN</td>\n",
       "      <td>NaN</td>\n",
       "      <td>NaN</td>\n",
       "    </tr>\n",
       "    <tr>\n",
       "      <th>2</th>\n",
       "      <td>3</td>\n",
       "      <td>1.23</td>\n",
       "      <td>0.08</td>\n",
       "      <td>3</td>\n",
       "      <td>1</td>\n",
       "      <td>19:00</td>\n",
       "      <td>09:22</td>\n",
       "      <td>NaN</td>\n",
       "      <td>NaN</td>\n",
       "      <td>NaN</td>\n",
       "      <td>NaN</td>\n",
       "      <td>NaN</td>\n",
       "      <td>NaN</td>\n",
       "      <td>NaN</td>\n",
       "      <td>NaN</td>\n",
       "      <td>NaN</td>\n",
       "      <td>NaN</td>\n",
       "      <td>NaN</td>\n",
       "      <td>NaN</td>\n",
       "      <td>NaN</td>\n",
       "      <td>NaN</td>\n",
       "      <td>NaN</td>\n",
       "      <td>NaN</td>\n",
       "      <td>NaN</td>\n",
       "      <td>NaN</td>\n",
       "      <td>NaN</td>\n",
       "      <td>NaN</td>\n",
       "      <td>NaN</td>\n",
       "      <td>NaN</td>\n",
       "      <td>NaN</td>\n",
       "      <td>NaN</td>\n",
       "      <td>NaN</td>\n",
       "      <td>NaN</td>\n",
       "      <td>NaN</td>\n",
       "      <td>NaN</td>\n",
       "    </tr>\n",
       "    <tr>\n",
       "      <th>3</th>\n",
       "      <td>4</td>\n",
       "      <td>-0.38</td>\n",
       "      <td>-1.30</td>\n",
       "      <td>3</td>\n",
       "      <td>2</td>\n",
       "      <td>12:00</td>\n",
       "      <td>12:38</td>\n",
       "      <td>08:00</td>\n",
       "      <td>09:04</td>\n",
       "      <td>NaN</td>\n",
       "      <td>NaN</td>\n",
       "      <td>NaN</td>\n",
       "      <td>NaN</td>\n",
       "      <td>NaN</td>\n",
       "      <td>NaN</td>\n",
       "      <td>NaN</td>\n",
       "      <td>NaN</td>\n",
       "      <td>NaN</td>\n",
       "      <td>NaN</td>\n",
       "      <td>NaN</td>\n",
       "      <td>NaN</td>\n",
       "      <td>NaN</td>\n",
       "      <td>NaN</td>\n",
       "      <td>NaN</td>\n",
       "      <td>NaN</td>\n",
       "      <td>NaN</td>\n",
       "      <td>NaN</td>\n",
       "      <td>NaN</td>\n",
       "      <td>NaN</td>\n",
       "      <td>NaN</td>\n",
       "      <td>NaN</td>\n",
       "      <td>NaN</td>\n",
       "      <td>NaN</td>\n",
       "      <td>NaN</td>\n",
       "      <td>NaN</td>\n",
       "    </tr>\n",
       "    <tr>\n",
       "      <th>4</th>\n",
       "      <td>5</td>\n",
       "      <td>-1.50</td>\n",
       "      <td>0.22</td>\n",
       "      <td>2</td>\n",
       "      <td>6</td>\n",
       "      <td>14:00</td>\n",
       "      <td>21:59</td>\n",
       "      <td>11:00</td>\n",
       "      <td>17:01</td>\n",
       "      <td>15:00</td>\n",
       "      <td>23:47</td>\n",
       "      <td>10:00</td>\n",
       "      <td>11:43</td>\n",
       "      <td>14:00</td>\n",
       "      <td>19:42</td>\n",
       "      <td>08:00</td>\n",
       "      <td>18:02</td>\n",
       "      <td>NaN</td>\n",
       "      <td>NaN</td>\n",
       "      <td>NaN</td>\n",
       "      <td>NaN</td>\n",
       "      <td>NaN</td>\n",
       "      <td>NaN</td>\n",
       "      <td>NaN</td>\n",
       "      <td>NaN</td>\n",
       "      <td>NaN</td>\n",
       "      <td>NaN</td>\n",
       "      <td>NaN</td>\n",
       "      <td>NaN</td>\n",
       "      <td>NaN</td>\n",
       "      <td>NaN</td>\n",
       "      <td>NaN</td>\n",
       "      <td>NaN</td>\n",
       "      <td>NaN</td>\n",
       "      <td>NaN</td>\n",
       "    </tr>\n",
       "  </tbody>\n",
       "</table>\n",
       "</div>"
      ],
      "text/plain": [
       "   id    X1    X2  X3   M   TS00   TO00   TS01   TO01   TS02   TO02   TS03   TO03   TS04   TO04   TS05   TO05   TS06   TO06   TS07   TO07   TS08   TO08   TS09   TO09   TS10   TO10   TS11   TO11   TS12   TO12   TS13   TO13 TS14 TO14\n",
       "0   1 -1.25 -0.88   2  14  14:00  22:27  18:00  14:37  13:00  09:39  17:00  11:58  11:00  07:47  18:00  21:27  14:00  09:57  19:00  20:13  14:00  19:39  18:00  15:42  10:00  21:29  10:00  08:47  15:00  10:06  10:00  09:14  NaN  NaN\n",
       "1   2 -0.14 -3.21   0   1  17:00  17:11    NaN    NaN    NaN    NaN    NaN    NaN    NaN    NaN    NaN    NaN    NaN    NaN    NaN    NaN    NaN    NaN    NaN    NaN    NaN    NaN    NaN    NaN    NaN    NaN    NaN    NaN  NaN  NaN\n",
       "2   3  1.23  0.08   3   1  19:00  09:22    NaN    NaN    NaN    NaN    NaN    NaN    NaN    NaN    NaN    NaN    NaN    NaN    NaN    NaN    NaN    NaN    NaN    NaN    NaN    NaN    NaN    NaN    NaN    NaN    NaN    NaN  NaN  NaN\n",
       "3   4 -0.38 -1.30   3   2  12:00  12:38  08:00  09:04    NaN    NaN    NaN    NaN    NaN    NaN    NaN    NaN    NaN    NaN    NaN    NaN    NaN    NaN    NaN    NaN    NaN    NaN    NaN    NaN    NaN    NaN    NaN    NaN  NaN  NaN\n",
       "4   5 -1.50  0.22   2   6  14:00  21:59  11:00  17:01  15:00  23:47  10:00  11:43  14:00  19:42  08:00  18:02    NaN    NaN    NaN    NaN    NaN    NaN    NaN    NaN    NaN    NaN    NaN    NaN    NaN    NaN    NaN    NaN  NaN  NaN"
      ]
     },
     "execution_count": 6,
     "metadata": {},
     "output_type": "execute_result"
    }
   ],
   "source": [
    "## Add id column to the data\n",
    "raw_data['id'] = list(range(1,len(raw_data)+1))\n",
    "x = raw_data.columns.tolist()\n",
    "x.remove('id')\n",
    "raw_data = raw_data[['id']+x]\n",
    "raw_data.head()"
   ]
  },
  {
   "cell_type": "markdown",
   "metadata": {},
   "source": [
    "##### 1. Data processing for user level summarization"
   ]
  },
  {
   "cell_type": "code",
   "execution_count": 7,
   "metadata": {
    "ExecuteTime": {
     "end_time": "2020-01-21T01:48:18.773715Z",
     "start_time": "2020-01-21T01:48:18.734557Z"
    },
    "scrolled": true
   },
   "outputs": [],
   "source": [
    "# ## Restructure the data\n",
    "# raw_data_restructure = pd.DataFrame()\n",
    "# for i in range(1,len(raw_data)+1):\n",
    "#     print(i)\n",
    "#     temp_df = raw_data[raw_data.id==i].copy()\n",
    "#     temp_df = temp_df.dropna(axis='columns')\n",
    "#     user_profile = temp_df[['id','X1','X2','X3','M']].copy()\n",
    "#     email_usage = temp_df.iloc[:,5:]\n",
    "#     for j in range(0,user_profile['M'].values[0]*2,2):\n",
    "#         temp_df_2 = pd.concat([user_profile, email_usage.iloc[:,j:j+2]],axis=1)\n",
    "#         temp_df_2.columns = ['id','X1','X2','X3','M', 'TS', 'TO']\n",
    "#         raw_data_restructure = pd.concat([raw_data_restructure,temp_df_2], axis=0)\n",
    "#     if i/1000 in list(range(1,101,1)):\n",
    "#         file = \"/Users/sheikhshahidurrahman/Documents/DataScience/Pair_Finance/data/processed/raw_data_restructure_\"+str(i/1000)+\".csv\"\n",
    "#         raw_data_restructure.to_csv(file\n",
    "#                                , index=False\n",
    "#                               )\n",
    "#         raw_data_restructure = pd.DataFrame()"
   ]
  },
  {
   "cell_type": "markdown",
   "metadata": {},
   "source": [
    "##### 2. Define the logic for assigning user behavior for mail reverts. i.e. define the time window as the user affinity"
   ]
  },
  {
   "cell_type": "code",
   "execution_count": 8,
   "metadata": {
    "ExecuteTime": {
     "end_time": "2020-01-21T01:48:25.284721Z",
     "start_time": "2020-01-21T01:48:18.778485Z"
    }
   },
   "outputs": [],
   "source": [
    "## Read and join all the single files\n",
    "import glob\n",
    "\n",
    "directoryPath = \"/Users/sheikhshahidurrahman/Documents/DataScience/Pair_Finance/pairfinance/pairfinance/data/\"\n",
    "raw_data_restructure = pd.DataFrame()\n",
    "for file_name in glob.glob(directoryPath+'*.csv'):\n",
    "    x = pd.read_csv(file_name, na_values = ['NA', 'na', 'nan', 'NaN', 'Nan', np.nan, np.inf, 'missing', 'NULL', 'null', 'Null', None, \n",
    "                                            'None', 'none', ' ', ''],\n",
    "                                low_memory=False)\n",
    "    raw_data_restructure = pd.concat([raw_data_restructure,x],axis=0)\n",
    "    "
   ]
  },
  {
   "cell_type": "code",
   "execution_count": 9,
   "metadata": {
    "ExecuteTime": {
     "end_time": "2020-01-21T01:48:25.354574Z",
     "start_time": "2020-01-21T01:48:25.288391Z"
    },
    "scrolled": true
   },
   "outputs": [
    {
     "name": "stdout",
     "output_type": "stream",
     "text": [
      "(798960, 7)\n",
      "100000\n"
     ]
    }
   ],
   "source": [
    "print(raw_data_restructure.shape)\n",
    "print(raw_data_restructure.id.nunique())"
   ]
  },
  {
   "cell_type": "code",
   "execution_count": 10,
   "metadata": {
    "ExecuteTime": {
     "end_time": "2020-01-21T01:48:25.411401Z",
     "start_time": "2020-01-21T01:48:25.357689Z"
    },
    "scrolled": true
   },
   "outputs": [
    {
     "data": {
      "text/html": [
       "<div>\n",
       "<style scoped>\n",
       "    .dataframe tbody tr th:only-of-type {\n",
       "        vertical-align: middle;\n",
       "    }\n",
       "\n",
       "    .dataframe tbody tr th {\n",
       "        vertical-align: top;\n",
       "    }\n",
       "\n",
       "    .dataframe thead th {\n",
       "        text-align: right;\n",
       "    }\n",
       "</style>\n",
       "<table border=\"1\" class=\"dataframe\">\n",
       "  <thead>\n",
       "    <tr style=\"text-align: right;\">\n",
       "      <th></th>\n",
       "      <th>id</th>\n",
       "      <th>X1</th>\n",
       "      <th>X2</th>\n",
       "      <th>X3</th>\n",
       "      <th>M</th>\n",
       "      <th>TS</th>\n",
       "      <th>TO</th>\n",
       "    </tr>\n",
       "  </thead>\n",
       "  <tbody>\n",
       "    <tr>\n",
       "      <th>0</th>\n",
       "      <td>55001</td>\n",
       "      <td>-0.97</td>\n",
       "      <td>-1.16</td>\n",
       "      <td>0</td>\n",
       "      <td>2</td>\n",
       "      <td>08:00</td>\n",
       "      <td>08:43</td>\n",
       "    </tr>\n",
       "    <tr>\n",
       "      <th>1</th>\n",
       "      <td>55001</td>\n",
       "      <td>-0.97</td>\n",
       "      <td>-1.16</td>\n",
       "      <td>0</td>\n",
       "      <td>2</td>\n",
       "      <td>14:00</td>\n",
       "      <td>14:16</td>\n",
       "    </tr>\n",
       "    <tr>\n",
       "      <th>2</th>\n",
       "      <td>55002</td>\n",
       "      <td>0.83</td>\n",
       "      <td>-0.29</td>\n",
       "      <td>1</td>\n",
       "      <td>13</td>\n",
       "      <td>15:00</td>\n",
       "      <td>07:13</td>\n",
       "    </tr>\n",
       "    <tr>\n",
       "      <th>3</th>\n",
       "      <td>55002</td>\n",
       "      <td>0.83</td>\n",
       "      <td>-0.29</td>\n",
       "      <td>1</td>\n",
       "      <td>13</td>\n",
       "      <td>12:00</td>\n",
       "      <td>11:20</td>\n",
       "    </tr>\n",
       "    <tr>\n",
       "      <th>4</th>\n",
       "      <td>55002</td>\n",
       "      <td>0.83</td>\n",
       "      <td>-0.29</td>\n",
       "      <td>1</td>\n",
       "      <td>13</td>\n",
       "      <td>09:00</td>\n",
       "      <td>19:03</td>\n",
       "    </tr>\n",
       "  </tbody>\n",
       "</table>\n",
       "</div>"
      ],
      "text/plain": [
       "      id    X1    X2  X3   M     TS     TO\n",
       "0  55001 -0.97 -1.16   0   2  08:00  08:43\n",
       "1  55001 -0.97 -1.16   0   2  14:00  14:16\n",
       "2  55002  0.83 -0.29   1  13  15:00  07:13\n",
       "3  55002  0.83 -0.29   1  13  12:00  11:20\n",
       "4  55002  0.83 -0.29   1  13  09:00  19:03"
      ]
     },
     "execution_count": 10,
     "metadata": {},
     "output_type": "execute_result"
    }
   ],
   "source": [
    "raw_data_restructure.head()"
   ]
  },
  {
   "cell_type": "code",
   "execution_count": 11,
   "metadata": {
    "ExecuteTime": {
     "end_time": "2020-01-21T01:48:29.121906Z",
     "start_time": "2020-01-21T01:48:25.424248Z"
    }
   },
   "outputs": [],
   "source": [
    "from pairfinance.helper_functions.utils import timing_of_reply\n",
    "raw_data_restructure['opening_timing'] = raw_data_restructure['TO'].map(lambda x: timing_of_reply(x))"
   ]
  },
  {
   "cell_type": "code",
   "execution_count": 12,
   "metadata": {
    "ExecuteTime": {
     "end_time": "2020-01-21T01:49:13.875935Z",
     "start_time": "2020-01-21T01:48:29.124438Z"
    },
    "scrolled": true
   },
   "outputs": [
    {
     "name": "stdout",
     "output_type": "stream",
     "text": [
      "100000\n"
     ]
    },
    {
     "data": {
      "text/html": [
       "<div>\n",
       "<style scoped>\n",
       "    .dataframe tbody tr th:only-of-type {\n",
       "        vertical-align: middle;\n",
       "    }\n",
       "\n",
       "    .dataframe tbody tr th {\n",
       "        vertical-align: top;\n",
       "    }\n",
       "\n",
       "    .dataframe thead th {\n",
       "        text-align: right;\n",
       "    }\n",
       "</style>\n",
       "<table border=\"1\" class=\"dataframe\">\n",
       "  <thead>\n",
       "    <tr style=\"text-align: right;\">\n",
       "      <th></th>\n",
       "      <th>id</th>\n",
       "      <th>X1</th>\n",
       "      <th>X2</th>\n",
       "      <th>X3</th>\n",
       "      <th>M</th>\n",
       "      <th>TS</th>\n",
       "      <th>TO</th>\n",
       "      <th>opening_timing</th>\n",
       "      <th>hour_TS</th>\n",
       "      <th>hour_TO</th>\n",
       "      <th>date_TS</th>\n",
       "      <th>date_TO</th>\n",
       "      <th>time_diff</th>\n",
       "    </tr>\n",
       "  </thead>\n",
       "  <tbody>\n",
       "    <tr>\n",
       "      <th>0</th>\n",
       "      <td>55001</td>\n",
       "      <td>-0.97</td>\n",
       "      <td>-1.16</td>\n",
       "      <td>0</td>\n",
       "      <td>2</td>\n",
       "      <td>08:00</td>\n",
       "      <td>08:43</td>\n",
       "      <td>6am to 12pm</td>\n",
       "      <td>8</td>\n",
       "      <td>8</td>\n",
       "      <td>2020-01-21 08:00:00</td>\n",
       "      <td>2020-01-21 08:43:00</td>\n",
       "      <td>43.0</td>\n",
       "    </tr>\n",
       "    <tr>\n",
       "      <th>1</th>\n",
       "      <td>55001</td>\n",
       "      <td>-0.97</td>\n",
       "      <td>-1.16</td>\n",
       "      <td>0</td>\n",
       "      <td>2</td>\n",
       "      <td>14:00</td>\n",
       "      <td>14:16</td>\n",
       "      <td>12pm to 18pm</td>\n",
       "      <td>14</td>\n",
       "      <td>14</td>\n",
       "      <td>2020-01-21 14:00:00</td>\n",
       "      <td>2020-01-21 14:16:00</td>\n",
       "      <td>16.0</td>\n",
       "    </tr>\n",
       "    <tr>\n",
       "      <th>2</th>\n",
       "      <td>55002</td>\n",
       "      <td>0.83</td>\n",
       "      <td>-0.29</td>\n",
       "      <td>1</td>\n",
       "      <td>13</td>\n",
       "      <td>15:00</td>\n",
       "      <td>07:13</td>\n",
       "      <td>6am to 12pm</td>\n",
       "      <td>15</td>\n",
       "      <td>7</td>\n",
       "      <td>2020-01-20 15:00:00</td>\n",
       "      <td>2020-01-21 07:13:00</td>\n",
       "      <td>973.0</td>\n",
       "    </tr>\n",
       "    <tr>\n",
       "      <th>3</th>\n",
       "      <td>55002</td>\n",
       "      <td>0.83</td>\n",
       "      <td>-0.29</td>\n",
       "      <td>1</td>\n",
       "      <td>13</td>\n",
       "      <td>12:00</td>\n",
       "      <td>11:20</td>\n",
       "      <td>6am to 12pm</td>\n",
       "      <td>12</td>\n",
       "      <td>11</td>\n",
       "      <td>2020-01-20 12:00:00</td>\n",
       "      <td>2020-01-21 11:20:00</td>\n",
       "      <td>1400.0</td>\n",
       "    </tr>\n",
       "    <tr>\n",
       "      <th>4</th>\n",
       "      <td>55002</td>\n",
       "      <td>0.83</td>\n",
       "      <td>-0.29</td>\n",
       "      <td>1</td>\n",
       "      <td>13</td>\n",
       "      <td>09:00</td>\n",
       "      <td>19:03</td>\n",
       "      <td>18pm to 23pm</td>\n",
       "      <td>9</td>\n",
       "      <td>19</td>\n",
       "      <td>2020-01-21 09:00:00</td>\n",
       "      <td>2020-01-21 19:03:00</td>\n",
       "      <td>603.0</td>\n",
       "    </tr>\n",
       "    <tr>\n",
       "      <th>5</th>\n",
       "      <td>55002</td>\n",
       "      <td>0.83</td>\n",
       "      <td>-0.29</td>\n",
       "      <td>1</td>\n",
       "      <td>13</td>\n",
       "      <td>19:00</td>\n",
       "      <td>17:55</td>\n",
       "      <td>12pm to 18pm</td>\n",
       "      <td>19</td>\n",
       "      <td>17</td>\n",
       "      <td>2020-01-20 19:00:00</td>\n",
       "      <td>2020-01-21 17:55:00</td>\n",
       "      <td>1375.0</td>\n",
       "    </tr>\n",
       "    <tr>\n",
       "      <th>6</th>\n",
       "      <td>55002</td>\n",
       "      <td>0.83</td>\n",
       "      <td>-0.29</td>\n",
       "      <td>1</td>\n",
       "      <td>13</td>\n",
       "      <td>12:00</td>\n",
       "      <td>13:08</td>\n",
       "      <td>12pm to 18pm</td>\n",
       "      <td>12</td>\n",
       "      <td>13</td>\n",
       "      <td>2020-01-21 12:00:00</td>\n",
       "      <td>2020-01-21 13:08:00</td>\n",
       "      <td>68.0</td>\n",
       "    </tr>\n",
       "    <tr>\n",
       "      <th>7</th>\n",
       "      <td>55002</td>\n",
       "      <td>0.83</td>\n",
       "      <td>-0.29</td>\n",
       "      <td>1</td>\n",
       "      <td>13</td>\n",
       "      <td>08:00</td>\n",
       "      <td>23:15</td>\n",
       "      <td>None</td>\n",
       "      <td>8</td>\n",
       "      <td>23</td>\n",
       "      <td>2020-01-21 08:00:00</td>\n",
       "      <td>2020-01-21 23:15:00</td>\n",
       "      <td>915.0</td>\n",
       "    </tr>\n",
       "    <tr>\n",
       "      <th>8</th>\n",
       "      <td>55002</td>\n",
       "      <td>0.83</td>\n",
       "      <td>-0.29</td>\n",
       "      <td>1</td>\n",
       "      <td>13</td>\n",
       "      <td>14:00</td>\n",
       "      <td>14:31</td>\n",
       "      <td>12pm to 18pm</td>\n",
       "      <td>14</td>\n",
       "      <td>14</td>\n",
       "      <td>2020-01-21 14:00:00</td>\n",
       "      <td>2020-01-21 14:31:00</td>\n",
       "      <td>31.0</td>\n",
       "    </tr>\n",
       "    <tr>\n",
       "      <th>9</th>\n",
       "      <td>55002</td>\n",
       "      <td>0.83</td>\n",
       "      <td>-0.29</td>\n",
       "      <td>1</td>\n",
       "      <td>13</td>\n",
       "      <td>14:00</td>\n",
       "      <td>18:07</td>\n",
       "      <td>18pm to 23pm</td>\n",
       "      <td>14</td>\n",
       "      <td>18</td>\n",
       "      <td>2020-01-21 14:00:00</td>\n",
       "      <td>2020-01-21 18:07:00</td>\n",
       "      <td>247.0</td>\n",
       "    </tr>\n",
       "  </tbody>\n",
       "</table>\n",
       "</div>"
      ],
      "text/plain": [
       "      id    X1    X2  X3   M     TS     TO opening_timing  hour_TS  hour_TO             date_TS             date_TO  time_diff\n",
       "0  55001 -0.97 -1.16   0   2  08:00  08:43    6am to 12pm        8        8 2020-01-21 08:00:00 2020-01-21 08:43:00       43.0\n",
       "1  55001 -0.97 -1.16   0   2  14:00  14:16   12pm to 18pm       14       14 2020-01-21 14:00:00 2020-01-21 14:16:00       16.0\n",
       "2  55002  0.83 -0.29   1  13  15:00  07:13    6am to 12pm       15        7 2020-01-20 15:00:00 2020-01-21 07:13:00      973.0\n",
       "3  55002  0.83 -0.29   1  13  12:00  11:20    6am to 12pm       12       11 2020-01-20 12:00:00 2020-01-21 11:20:00     1400.0\n",
       "4  55002  0.83 -0.29   1  13  09:00  19:03   18pm to 23pm        9       19 2020-01-21 09:00:00 2020-01-21 19:03:00      603.0\n",
       "5  55002  0.83 -0.29   1  13  19:00  17:55   12pm to 18pm       19       17 2020-01-20 19:00:00 2020-01-21 17:55:00     1375.0\n",
       "6  55002  0.83 -0.29   1  13  12:00  13:08   12pm to 18pm       12       13 2020-01-21 12:00:00 2020-01-21 13:08:00       68.0\n",
       "7  55002  0.83 -0.29   1  13  08:00  23:15           None        8       23 2020-01-21 08:00:00 2020-01-21 23:15:00      915.0\n",
       "8  55002  0.83 -0.29   1  13  14:00  14:31   12pm to 18pm       14       14 2020-01-21 14:00:00 2020-01-21 14:31:00       31.0\n",
       "9  55002  0.83 -0.29   1  13  14:00  18:07   18pm to 23pm       14       18 2020-01-21 14:00:00 2020-01-21 18:07:00      247.0"
      ]
     },
     "execution_count": 12,
     "metadata": {},
     "output_type": "execute_result"
    }
   ],
   "source": [
    "# raw_data_restructure['time_taken'] = time_calculate(raw_data_restructure['TS'], raw_data_restructure['TO'])\n",
    "raw_data_restructure['hour_TS'] = raw_data_restructure['TS'].map(lambda x:int(x.split(':')[0]))\n",
    "raw_data_restructure['hour_TO'] = raw_data_restructure['TO'].map(lambda x:int(x.split(':')[0]))\n",
    "\n",
    "raw_data_restructure['date_TS'] = np.where(raw_data_restructure.hour_TS>raw_data_restructure.hour_TO, \n",
    "                                            pd.to_datetime(raw_data_restructure.TS) + pd.Timedelta(days=-1),\n",
    "                                            pd.to_datetime(raw_data_restructure.TS)\n",
    "                                           )\n",
    "# Remove some rows with negative minute values\n",
    "raw_data_restructure['minute_TO'] = raw_data_restructure['TO'].apply(lambda x: x.split(\":\")[1])\n",
    "raw_data_restructure.minute_TO = raw_data_restructure.minute_TO.astype(int)\n",
    "raw_data_restructure = raw_data_restructure[raw_data_restructure.minute_TO>=0]\n",
    "raw_data_restructure = raw_data_restructure.drop(['minute_TO'], axis=1)\n",
    "raw_data_restructure['date_TO'] = pd.to_datetime(raw_data_restructure['TO'])\n",
    "\n",
    "raw_data_restructure['time_diff'] = (raw_data_restructure['date_TO'] - raw_data_restructure['date_TS']).astype('timedelta64[m]')\n",
    "print(raw_data_restructure.id.nunique())\n",
    "raw_data_restructure.head(10)"
   ]
  },
  {
   "cell_type": "code",
   "execution_count": 13,
   "metadata": {
    "ExecuteTime": {
     "end_time": "2020-01-21T01:49:14.413278Z",
     "start_time": "2020-01-21T01:49:13.880163Z"
    }
   },
   "outputs": [
    {
     "name": "stdout",
     "output_type": "stream",
     "text": [
      "  opening_timing   count  sorting_index\n",
      "0       0 to 6am   15389              0\n",
      "3    6am to 12pm  335947              1\n",
      "1   12pm to 18pm  217668              2\n",
      "2   18pm to 23pm  211425              3\n"
     ]
    },
    {
     "data": {
      "text/plain": [
       "Text(0,0.5,'Email counts')"
      ]
     },
     "execution_count": 13,
     "metadata": {},
     "output_type": "execute_result"
    },
    {
     "data": {
      "image/png": "[encoded data removed]",
      "text/plain": [
       "<Figure size 432x288 with 1 Axes>"
      ]
     },
     "metadata": {
      "needs_background": "light"
     },
     "output_type": "display_data"
    }
   ],
   "source": [
    "temp = raw_data_restructure.groupby(['opening_timing']).size().reset_index(name='count')\n",
    "sorting = {'0 to 6am':0,'6am to 12pm':1,'12pm to 18pm':2,'18pm to 23pm':3}\n",
    "temp['sorting_index'] = temp.opening_timing.map(sorting)\n",
    "temp = temp.sort_values('sorting_index')\n",
    "print(temp.head())\n",
    "temp.set_index(['opening_timing'])[['count']].plot.bar()\n",
    "plt.ylabel(\"Email counts\")\n"
   ]
  },
  {
   "cell_type": "code",
   "execution_count": 14,
   "metadata": {
    "ExecuteTime": {
     "end_time": "2020-01-21T01:49:14.906841Z",
     "start_time": "2020-01-21T01:49:14.417264Z"
    }
   },
   "outputs": [
    {
     "name": "stdout",
     "output_type": "stream",
     "text": [
      "  opening_timing  count  sorting_index\n",
      "0       0 to 6am  13354              0\n",
      "3    6am to 12pm  88038              1\n",
      "1   12pm to 18pm  75044              2\n",
      "2   18pm to 23pm  73238              3\n"
     ]
    },
    {
     "data": {
      "text/plain": [
       "Text(0,0.5,'User counts')"
      ]
     },
     "execution_count": 14,
     "metadata": {},
     "output_type": "execute_result"
    },
    {
     "data": {
      "image/png": "[encoded data removed]",
      "text/plain": [
       "<Figure size 432x288 with 1 Axes>"
      ]
     },
     "metadata": {
      "needs_background": "light"
     },
     "output_type": "display_data"
    }
   ],
   "source": [
    "temp = raw_data_restructure.groupby(['opening_timing'])['id'].nunique().reset_index(name='count')\n",
    "sorting = {'0 to 6am':0,'6am to 12pm':1,'12pm to 18pm':2,'18pm to 23pm':3}\n",
    "temp['sorting_index'] = temp.opening_timing.map(sorting)\n",
    "temp = temp.sort_values('sorting_index')\n",
    "print(temp.head())\n",
    "temp.set_index(['opening_timing'])[['count']].plot.bar()\n",
    "plt.ylabel(\"User counts\")\n"
   ]
  },
  {
   "cell_type": "markdown",
   "metadata": {},
   "source": [
    "###### 2.1 Rules for defining affinity for a person. This is funnel approach, so users are tagged on successive iterations.\n",
    "    1. Time difference always < 90 then he's an active person\n",
    "    2. More than 70% emails are opened at a single time window, then assign that window.\n",
    "    3. Min. of opening time with > 20% of emails opened\n",
    "    4. Max. percentage of emails opened from the rest of the dataset"
   ]
  },
  {
   "cell_type": "code",
   "execution_count": 15,
   "metadata": {
    "ExecuteTime": {
     "end_time": "2020-01-21T01:49:15.553755Z",
     "start_time": "2020-01-21T01:49:14.912670Z"
    }
   },
   "outputs": [
    {
     "data": {
      "text/html": [
       "<div>\n",
       "<style scoped>\n",
       "    .dataframe tbody tr th:only-of-type {\n",
       "        vertical-align: middle;\n",
       "    }\n",
       "\n",
       "    .dataframe tbody tr th {\n",
       "        vertical-align: top;\n",
       "    }\n",
       "\n",
       "    .dataframe thead th {\n",
       "        text-align: right;\n",
       "    }\n",
       "</style>\n",
       "<table border=\"1\" class=\"dataframe\">\n",
       "  <thead>\n",
       "    <tr style=\"text-align: right;\">\n",
       "      <th></th>\n",
       "      <th>id</th>\n",
       "      <th>X1</th>\n",
       "      <th>X2</th>\n",
       "      <th>M</th>\n",
       "      <th>opening_timing</th>\n",
       "      <th>time_diff_mean</th>\n",
       "      <th>time_diff_count</th>\n",
       "    </tr>\n",
       "  </thead>\n",
       "  <tbody>\n",
       "    <tr>\n",
       "      <th>0</th>\n",
       "      <td>1</td>\n",
       "      <td>-1.25</td>\n",
       "      <td>-0.88</td>\n",
       "      <td>14</td>\n",
       "      <td>12pm to 18pm</td>\n",
       "      <td>1269.500000</td>\n",
       "      <td>2</td>\n",
       "    </tr>\n",
       "    <tr>\n",
       "      <th>1</th>\n",
       "      <td>1</td>\n",
       "      <td>-1.25</td>\n",
       "      <td>-0.88</td>\n",
       "      <td>14</td>\n",
       "      <td>18pm to 23pm</td>\n",
       "      <td>363.000000</td>\n",
       "      <td>5</td>\n",
       "    </tr>\n",
       "    <tr>\n",
       "      <th>2</th>\n",
       "      <td>1</td>\n",
       "      <td>-1.25</td>\n",
       "      <td>-0.88</td>\n",
       "      <td>14</td>\n",
       "      <td>6am to 12pm</td>\n",
       "      <td>1246.857143</td>\n",
       "      <td>7</td>\n",
       "    </tr>\n",
       "    <tr>\n",
       "      <th>3</th>\n",
       "      <td>2</td>\n",
       "      <td>-0.14</td>\n",
       "      <td>-3.21</td>\n",
       "      <td>1</td>\n",
       "      <td>12pm to 18pm</td>\n",
       "      <td>11.000000</td>\n",
       "      <td>1</td>\n",
       "    </tr>\n",
       "    <tr>\n",
       "      <th>4</th>\n",
       "      <td>3</td>\n",
       "      <td>1.23</td>\n",
       "      <td>0.08</td>\n",
       "      <td>1</td>\n",
       "      <td>6am to 12pm</td>\n",
       "      <td>862.000000</td>\n",
       "      <td>1</td>\n",
       "    </tr>\n",
       "  </tbody>\n",
       "</table>\n",
       "</div>"
      ],
      "text/plain": [
       "   id    X1    X2   M opening_timing  time_diff_mean  time_diff_count\n",
       "0   1 -1.25 -0.88  14   12pm to 18pm     1269.500000                2\n",
       "1   1 -1.25 -0.88  14   18pm to 23pm      363.000000                5\n",
       "2   1 -1.25 -0.88  14    6am to 12pm     1246.857143                7\n",
       "3   2 -0.14 -3.21   1   12pm to 18pm       11.000000                1\n",
       "4   3  1.23  0.08   1    6am to 12pm      862.000000                1"
      ]
     },
     "execution_count": 15,
     "metadata": {},
     "output_type": "execute_result"
    }
   ],
   "source": [
    "## Summarize the raw_data\n",
    "raw_data_summary = raw_data_restructure[['id','X1','X2','M','opening_timing','time_diff']].groupby(['id','X1','X2','M','opening_timing']).agg(('mean','count')).reset_index()\n",
    "raw_data_summary.columns = ['id', 'X1', 'X2', 'M', 'opening_timing', 'time_diff_mean', 'time_diff_count']\n",
    "raw_data_summary.head()"
   ]
  },
  {
   "cell_type": "code",
   "execution_count": 16,
   "metadata": {
    "ExecuteTime": {
     "end_time": "2020-01-21T01:49:16.045848Z",
     "start_time": "2020-01-21T01:49:15.556798Z"
    }
   },
   "outputs": [
    {
     "data": {
      "text/html": [
       "<div>\n",
       "<style scoped>\n",
       "    .dataframe tbody tr th:only-of-type {\n",
       "        vertical-align: middle;\n",
       "    }\n",
       "\n",
       "    .dataframe tbody tr th {\n",
       "        vertical-align: top;\n",
       "    }\n",
       "\n",
       "    .dataframe thead th {\n",
       "        text-align: right;\n",
       "    }\n",
       "</style>\n",
       "<table border=\"1\" class=\"dataframe\">\n",
       "  <thead>\n",
       "    <tr style=\"text-align: right;\">\n",
       "      <th></th>\n",
       "      <th>id</th>\n",
       "      <th>X1</th>\n",
       "      <th>X2</th>\n",
       "      <th>M</th>\n",
       "      <th>opening_timing</th>\n",
       "      <th>time_diff_mean</th>\n",
       "      <th>time_diff_count</th>\n",
       "      <th>time_diff_count_total</th>\n",
       "      <th>percent_emails</th>\n",
       "    </tr>\n",
       "  </thead>\n",
       "  <tbody>\n",
       "    <tr>\n",
       "      <th>0</th>\n",
       "      <td>1</td>\n",
       "      <td>-1.25</td>\n",
       "      <td>-0.88</td>\n",
       "      <td>14</td>\n",
       "      <td>12pm to 18pm</td>\n",
       "      <td>1269.500000</td>\n",
       "      <td>2</td>\n",
       "      <td>14</td>\n",
       "      <td>0.143</td>\n",
       "    </tr>\n",
       "    <tr>\n",
       "      <th>1</th>\n",
       "      <td>1</td>\n",
       "      <td>-1.25</td>\n",
       "      <td>-0.88</td>\n",
       "      <td>14</td>\n",
       "      <td>18pm to 23pm</td>\n",
       "      <td>363.000000</td>\n",
       "      <td>5</td>\n",
       "      <td>14</td>\n",
       "      <td>0.357</td>\n",
       "    </tr>\n",
       "    <tr>\n",
       "      <th>2</th>\n",
       "      <td>1</td>\n",
       "      <td>-1.25</td>\n",
       "      <td>-0.88</td>\n",
       "      <td>14</td>\n",
       "      <td>6am to 12pm</td>\n",
       "      <td>1246.857143</td>\n",
       "      <td>7</td>\n",
       "      <td>14</td>\n",
       "      <td>0.500</td>\n",
       "    </tr>\n",
       "    <tr>\n",
       "      <th>3</th>\n",
       "      <td>2</td>\n",
       "      <td>-0.14</td>\n",
       "      <td>-3.21</td>\n",
       "      <td>1</td>\n",
       "      <td>12pm to 18pm</td>\n",
       "      <td>11.000000</td>\n",
       "      <td>1</td>\n",
       "      <td>1</td>\n",
       "      <td>1.000</td>\n",
       "    </tr>\n",
       "    <tr>\n",
       "      <th>4</th>\n",
       "      <td>3</td>\n",
       "      <td>1.23</td>\n",
       "      <td>0.08</td>\n",
       "      <td>1</td>\n",
       "      <td>6am to 12pm</td>\n",
       "      <td>862.000000</td>\n",
       "      <td>1</td>\n",
       "      <td>1</td>\n",
       "      <td>1.000</td>\n",
       "    </tr>\n",
       "  </tbody>\n",
       "</table>\n",
       "</div>"
      ],
      "text/plain": [
       "   id    X1    X2   M opening_timing  time_diff_mean  time_diff_count  time_diff_count_total  percent_emails\n",
       "0   1 -1.25 -0.88  14   12pm to 18pm     1269.500000                2                     14           0.143\n",
       "1   1 -1.25 -0.88  14   18pm to 23pm      363.000000                5                     14           0.357\n",
       "2   1 -1.25 -0.88  14    6am to 12pm     1246.857143                7                     14           0.500\n",
       "3   2 -0.14 -3.21   1   12pm to 18pm       11.000000                1                      1           1.000\n",
       "4   3  1.23  0.08   1    6am to 12pm      862.000000                1                      1           1.000"
      ]
     },
     "execution_count": 16,
     "metadata": {},
     "output_type": "execute_result"
    }
   ],
   "source": [
    "## Add percent_email columns for each row\n",
    "raw_data_summary_total = raw_data_summary.groupby(['id', 'X1', 'X2', 'M']).agg({'time_diff_count':'sum'}).reset_index()\n",
    "raw_data_summary_merged = pd.merge(raw_data_summary,raw_data_summary_total,on=['id', 'X1', 'X2', 'M'], how='left', suffixes=('','_total'))\n",
    "raw_data_summary_merged['percent_emails'] = np.round(raw_data_summary_merged['time_diff_count']/raw_data_summary_merged['time_diff_count_total'],3)\n",
    "raw_data_summary_merged.head()"
   ]
  },
  {
   "cell_type": "code",
   "execution_count": 17,
   "metadata": {
    "ExecuteTime": {
     "end_time": "2020-01-21T01:49:16.618437Z",
     "start_time": "2020-01-21T01:49:16.048583Z"
    },
    "scrolled": true
   },
   "outputs": [
    {
     "name": "stdout",
     "output_type": "stream",
     "text": [
      "99851\n"
     ]
    },
    {
     "data": {
      "text/html": [
       "<div>\n",
       "<style scoped>\n",
       "    .dataframe tbody tr th:only-of-type {\n",
       "        vertical-align: middle;\n",
       "    }\n",
       "\n",
       "    .dataframe tbody tr th {\n",
       "        vertical-align: top;\n",
       "    }\n",
       "\n",
       "    .dataframe thead th {\n",
       "        text-align: right;\n",
       "    }\n",
       "</style>\n",
       "<table border=\"1\" class=\"dataframe\">\n",
       "  <thead>\n",
       "    <tr style=\"text-align: right;\">\n",
       "      <th></th>\n",
       "      <th>id</th>\n",
       "      <th>X1</th>\n",
       "      <th>X2</th>\n",
       "      <th>M</th>\n",
       "      <th>opening_timing</th>\n",
       "      <th>time_diff_mean</th>\n",
       "      <th>time_diff_count</th>\n",
       "      <th>time_diff_count_total</th>\n",
       "      <th>percent_emails</th>\n",
       "      <th>avg_opening_time</th>\n",
       "    </tr>\n",
       "  </thead>\n",
       "  <tbody>\n",
       "    <tr>\n",
       "      <th>0</th>\n",
       "      <td>1</td>\n",
       "      <td>-1.25</td>\n",
       "      <td>-0.88</td>\n",
       "      <td>14</td>\n",
       "      <td>12pm to 18pm</td>\n",
       "      <td>1269.500000</td>\n",
       "      <td>2</td>\n",
       "      <td>14</td>\n",
       "      <td>0.143</td>\n",
       "      <td>934.428571</td>\n",
       "    </tr>\n",
       "    <tr>\n",
       "      <th>1</th>\n",
       "      <td>1</td>\n",
       "      <td>-1.25</td>\n",
       "      <td>-0.88</td>\n",
       "      <td>14</td>\n",
       "      <td>18pm to 23pm</td>\n",
       "      <td>363.000000</td>\n",
       "      <td>5</td>\n",
       "      <td>14</td>\n",
       "      <td>0.357</td>\n",
       "      <td>934.428571</td>\n",
       "    </tr>\n",
       "    <tr>\n",
       "      <th>2</th>\n",
       "      <td>1</td>\n",
       "      <td>-1.25</td>\n",
       "      <td>-0.88</td>\n",
       "      <td>14</td>\n",
       "      <td>6am to 12pm</td>\n",
       "      <td>1246.857143</td>\n",
       "      <td>7</td>\n",
       "      <td>14</td>\n",
       "      <td>0.500</td>\n",
       "      <td>934.428571</td>\n",
       "    </tr>\n",
       "    <tr>\n",
       "      <th>3</th>\n",
       "      <td>2</td>\n",
       "      <td>-0.14</td>\n",
       "      <td>-3.21</td>\n",
       "      <td>1</td>\n",
       "      <td>12pm to 18pm</td>\n",
       "      <td>11.000000</td>\n",
       "      <td>1</td>\n",
       "      <td>1</td>\n",
       "      <td>1.000</td>\n",
       "      <td>11.000000</td>\n",
       "    </tr>\n",
       "    <tr>\n",
       "      <th>4</th>\n",
       "      <td>3</td>\n",
       "      <td>1.23</td>\n",
       "      <td>0.08</td>\n",
       "      <td>1</td>\n",
       "      <td>6am to 12pm</td>\n",
       "      <td>862.000000</td>\n",
       "      <td>1</td>\n",
       "      <td>1</td>\n",
       "      <td>1.000</td>\n",
       "      <td>862.000000</td>\n",
       "    </tr>\n",
       "    <tr>\n",
       "      <th>5</th>\n",
       "      <td>4</td>\n",
       "      <td>-0.38</td>\n",
       "      <td>-1.30</td>\n",
       "      <td>2</td>\n",
       "      <td>12pm to 18pm</td>\n",
       "      <td>38.000000</td>\n",
       "      <td>1</td>\n",
       "      <td>2</td>\n",
       "      <td>0.500</td>\n",
       "      <td>51.000000</td>\n",
       "    </tr>\n",
       "    <tr>\n",
       "      <th>6</th>\n",
       "      <td>4</td>\n",
       "      <td>-0.38</td>\n",
       "      <td>-1.30</td>\n",
       "      <td>2</td>\n",
       "      <td>6am to 12pm</td>\n",
       "      <td>64.000000</td>\n",
       "      <td>1</td>\n",
       "      <td>2</td>\n",
       "      <td>0.500</td>\n",
       "      <td>51.000000</td>\n",
       "    </tr>\n",
       "    <tr>\n",
       "      <th>7</th>\n",
       "      <td>5</td>\n",
       "      <td>-1.50</td>\n",
       "      <td>0.22</td>\n",
       "      <td>6</td>\n",
       "      <td>12pm to 18pm</td>\n",
       "      <td>361.000000</td>\n",
       "      <td>1</td>\n",
       "      <td>5</td>\n",
       "      <td>0.200</td>\n",
       "      <td>402.333333</td>\n",
       "    </tr>\n",
       "    <tr>\n",
       "      <th>8</th>\n",
       "      <td>5</td>\n",
       "      <td>-1.50</td>\n",
       "      <td>0.22</td>\n",
       "      <td>6</td>\n",
       "      <td>18pm to 23pm</td>\n",
       "      <td>474.333333</td>\n",
       "      <td>3</td>\n",
       "      <td>5</td>\n",
       "      <td>0.600</td>\n",
       "      <td>402.333333</td>\n",
       "    </tr>\n",
       "    <tr>\n",
       "      <th>9</th>\n",
       "      <td>5</td>\n",
       "      <td>-1.50</td>\n",
       "      <td>0.22</td>\n",
       "      <td>6</td>\n",
       "      <td>6am to 12pm</td>\n",
       "      <td>103.000000</td>\n",
       "      <td>1</td>\n",
       "      <td>5</td>\n",
       "      <td>0.200</td>\n",
       "      <td>402.333333</td>\n",
       "    </tr>\n",
       "  </tbody>\n",
       "</table>\n",
       "</div>"
      ],
      "text/plain": [
       "   id    X1    X2   M opening_timing  time_diff_mean  time_diff_count  time_diff_count_total  percent_emails  avg_opening_time\n",
       "0   1 -1.25 -0.88  14   12pm to 18pm     1269.500000                2                     14           0.143        934.428571\n",
       "1   1 -1.25 -0.88  14   18pm to 23pm      363.000000                5                     14           0.357        934.428571\n",
       "2   1 -1.25 -0.88  14    6am to 12pm     1246.857143                7                     14           0.500        934.428571\n",
       "3   2 -0.14 -3.21   1   12pm to 18pm       11.000000                1                      1           1.000         11.000000\n",
       "4   3  1.23  0.08   1    6am to 12pm      862.000000                1                      1           1.000        862.000000\n",
       "5   4 -0.38 -1.30   2   12pm to 18pm       38.000000                1                      2           0.500         51.000000\n",
       "6   4 -0.38 -1.30   2    6am to 12pm       64.000000                1                      2           0.500         51.000000\n",
       "7   5 -1.50  0.22   6   12pm to 18pm      361.000000                1                      5           0.200        402.333333\n",
       "8   5 -1.50  0.22   6   18pm to 23pm      474.333333                3                      5           0.600        402.333333\n",
       "9   5 -1.50  0.22   6    6am to 12pm      103.000000                1                      5           0.200        402.333333"
      ]
     },
     "execution_count": 17,
     "metadata": {},
     "output_type": "execute_result"
    }
   ],
   "source": [
    "## Add mean time_diff_mean column at user level\n",
    "raw_data_restructure_mean = raw_data_restructure.groupby(['id', 'X1', 'X2', 'M']).agg({'time_diff':'mean'}).reset_index()\n",
    "raw_data_restructure_mean.columns = ['id', 'X1', 'X2', 'M', 'avg_opening_time']\n",
    "raw_data_summary_merged = pd.merge(raw_data_summary_merged,raw_data_restructure_mean,on=['id', 'X1', 'X2', 'M'], how='left', suffixes=('',''))\n",
    "print(raw_data_summary_merged.id.nunique())\n",
    "raw_data_summary_merged.head(10)"
   ]
  },
  {
   "cell_type": "code",
   "execution_count": 18,
   "metadata": {
    "ExecuteTime": {
     "end_time": "2020-01-21T01:49:16.874028Z",
     "start_time": "2020-01-21T01:49:16.622910Z"
    }
   },
   "outputs": [
    {
     "name": "stdout",
     "output_type": "stream",
     "text": [
      "18230\n"
     ]
    }
   ],
   "source": [
    "## Rule 1\n",
    "raw_data_summary_merged['preference'] = np.where(raw_data_summary_merged.avg_opening_time<90, 'instant','unk')\n",
    "rule_1 = raw_data_summary_merged[raw_data_summary_merged.preference=='instant']\n",
    "print(raw_data_summary_merged[raw_data_summary_merged.preference=='instant'].id.nunique())"
   ]
  },
  {
   "cell_type": "code",
   "execution_count": 19,
   "metadata": {
    "ExecuteTime": {
     "end_time": "2020-01-21T01:49:17.105978Z",
     "start_time": "2020-01-21T01:49:16.877286Z"
    }
   },
   "outputs": [
    {
     "name": "stdout",
     "output_type": "stream",
     "text": [
      "22566\n"
     ]
    },
    {
     "name": "stderr",
     "output_type": "stream",
     "text": [
      "/Users/sheikhshahidurrahman/opt/anaconda3/envs/py37/lib/python3.7/site-packages/ipykernel_launcher.py:5: SettingWithCopyWarning: \n",
      "A value is trying to be set on a copy of a slice from a DataFrame.\n",
      "Try using .loc[row_indexer,col_indexer] = value instead\n",
      "\n",
      "See the caveats in the documentation: http://pandas.pydata.org/pandas-docs/stable/user_guide/indexing.html#returning-a-view-versus-a-copy\n",
      "  \"\"\"\n"
     ]
    }
   ],
   "source": [
    "## Rule 2\n",
    "# Add a flag for percentage of emails\n",
    "percent_emails_filter = raw_data_summary_merged[raw_data_summary_merged.preference!='instant']\n",
    "xx = percent_emails_filter[percent_emails_filter.percent_emails>=0.7].id.unique()\n",
    "percent_emails_filter['preference'] = np.where(percent_emails_filter.id.isin(xx),'one_time','unk')\n",
    "rule_2 = percent_emails_filter[percent_emails_filter.preference=='one_time']\n",
    "print(percent_emails_filter[percent_emails_filter.preference=='one_time'].id.nunique())"
   ]
  },
  {
   "cell_type": "code",
   "execution_count": 20,
   "metadata": {
    "ExecuteTime": {
     "end_time": "2020-01-21T01:49:17.677051Z",
     "start_time": "2020-01-21T01:49:17.109051Z"
    }
   },
   "outputs": [
    {
     "name": "stdout",
     "output_type": "stream",
     "text": [
      "45845\n"
     ]
    }
   ],
   "source": [
    "## Rule 3\n",
    "rest_df = percent_emails_filter[percent_emails_filter.preference!='one_time']\n",
    "rest_df_min_opening = rest_df.groupby(['id', 'X1', 'X2', 'M']).agg({'time_diff_mean':'min'}).reset_index()\n",
    "rest_df_joined = pd.merge(rest_df, rest_df_min_opening, how='left', on=['id', 'X1', 'X2', 'M'], suffixes=('','_min'))\n",
    "rest_df_joined.head()\n",
    "rest_df_joined['min_col'] = np.where(rest_df_joined.time_diff_mean==rest_df_joined.time_diff_mean_min,1,0)\n",
    "last_df = rest_df_joined[(rest_df_joined.min_col==1) & (rest_df_joined.percent_emails>=0.2)]\n",
    "xx = last_df.id.unique()\n",
    "rest_df_joined['preference'] = np.where(rest_df_joined.id.isin(xx),'min_20_percent','unk')\n",
    "rule_3 = rest_df_joined[rest_df_joined.preference=='min_20_percent']\n",
    "print(rest_df_joined[rest_df_joined.preference=='min_20_percent'].id.nunique())"
   ]
  },
  {
   "cell_type": "code",
   "execution_count": 21,
   "metadata": {
    "ExecuteTime": {
     "end_time": "2020-01-21T01:49:17.905435Z",
     "start_time": "2020-01-21T01:49:17.681281Z"
    },
    "scrolled": true
   },
   "outputs": [
    {
     "data": {
      "text/html": [
       "<div>\n",
       "<style scoped>\n",
       "    .dataframe tbody tr th:only-of-type {\n",
       "        vertical-align: middle;\n",
       "    }\n",
       "\n",
       "    .dataframe tbody tr th {\n",
       "        vertical-align: top;\n",
       "    }\n",
       "\n",
       "    .dataframe thead th {\n",
       "        text-align: right;\n",
       "    }\n",
       "</style>\n",
       "<table border=\"1\" class=\"dataframe\">\n",
       "  <thead>\n",
       "    <tr style=\"text-align: right;\">\n",
       "      <th></th>\n",
       "      <th>id</th>\n",
       "      <th>X1</th>\n",
       "      <th>X2</th>\n",
       "      <th>M</th>\n",
       "      <th>opening_timing</th>\n",
       "      <th>time_diff_mean</th>\n",
       "      <th>time_diff_count</th>\n",
       "      <th>time_diff_count_total</th>\n",
       "      <th>percent_emails</th>\n",
       "      <th>avg_opening_time</th>\n",
       "      <th>preference</th>\n",
       "      <th>time_diff_mean_min</th>\n",
       "      <th>min_col</th>\n",
       "      <th>percent_emails_max</th>\n",
       "      <th>max_col</th>\n",
       "    </tr>\n",
       "  </thead>\n",
       "  <tbody>\n",
       "    <tr>\n",
       "      <th>0</th>\n",
       "      <td>7</td>\n",
       "      <td>1.00</td>\n",
       "      <td>0.84</td>\n",
       "      <td>12</td>\n",
       "      <td>12pm to 18pm</td>\n",
       "      <td>793.0</td>\n",
       "      <td>5</td>\n",
       "      <td>12</td>\n",
       "      <td>0.417</td>\n",
       "      <td>773.666667</td>\n",
       "      <td>remain</td>\n",
       "      <td>45.5</td>\n",
       "      <td>0</td>\n",
       "      <td>0.417</td>\n",
       "      <td>1</td>\n",
       "    </tr>\n",
       "    <tr>\n",
       "      <th>1</th>\n",
       "      <td>7</td>\n",
       "      <td>1.00</td>\n",
       "      <td>0.84</td>\n",
       "      <td>12</td>\n",
       "      <td>18pm to 23pm</td>\n",
       "      <td>45.5</td>\n",
       "      <td>2</td>\n",
       "      <td>12</td>\n",
       "      <td>0.167</td>\n",
       "      <td>773.666667</td>\n",
       "      <td>remain</td>\n",
       "      <td>45.5</td>\n",
       "      <td>1</td>\n",
       "      <td>0.417</td>\n",
       "      <td>0</td>\n",
       "    </tr>\n",
       "    <tr>\n",
       "      <th>2</th>\n",
       "      <td>7</td>\n",
       "      <td>1.00</td>\n",
       "      <td>0.84</td>\n",
       "      <td>12</td>\n",
       "      <td>6am to 12pm</td>\n",
       "      <td>1045.6</td>\n",
       "      <td>5</td>\n",
       "      <td>12</td>\n",
       "      <td>0.417</td>\n",
       "      <td>773.666667</td>\n",
       "      <td>remain</td>\n",
       "      <td>45.5</td>\n",
       "      <td>0</td>\n",
       "      <td>0.417</td>\n",
       "      <td>1</td>\n",
       "    </tr>\n",
       "    <tr>\n",
       "      <th>3</th>\n",
       "      <td>19</td>\n",
       "      <td>-0.77</td>\n",
       "      <td>0.27</td>\n",
       "      <td>14</td>\n",
       "      <td>0 to 6am</td>\n",
       "      <td>631.5</td>\n",
       "      <td>2</td>\n",
       "      <td>13</td>\n",
       "      <td>0.154</td>\n",
       "      <td>747.571429</td>\n",
       "      <td>remain</td>\n",
       "      <td>41.0</td>\n",
       "      <td>0</td>\n",
       "      <td>0.462</td>\n",
       "      <td>0</td>\n",
       "    </tr>\n",
       "    <tr>\n",
       "      <th>4</th>\n",
       "      <td>19</td>\n",
       "      <td>-0.77</td>\n",
       "      <td>0.27</td>\n",
       "      <td>14</td>\n",
       "      <td>12pm to 18pm</td>\n",
       "      <td>41.0</td>\n",
       "      <td>1</td>\n",
       "      <td>13</td>\n",
       "      <td>0.077</td>\n",
       "      <td>747.571429</td>\n",
       "      <td>remain</td>\n",
       "      <td>41.0</td>\n",
       "      <td>1</td>\n",
       "      <td>0.462</td>\n",
       "      <td>0</td>\n",
       "    </tr>\n",
       "  </tbody>\n",
       "</table>\n",
       "</div>"
      ],
      "text/plain": [
       "   id    X1    X2   M opening_timing  time_diff_mean  time_diff_count  time_diff_count_total  percent_emails  avg_opening_time preference  time_diff_mean_min  min_col  percent_emails_max  max_col\n",
       "0   7  1.00  0.84  12   12pm to 18pm           793.0                5                     12           0.417        773.666667     remain                45.5        0               0.417        1\n",
       "1   7  1.00  0.84  12   18pm to 23pm            45.5                2                     12           0.167        773.666667     remain                45.5        1               0.417        0\n",
       "2   7  1.00  0.84  12    6am to 12pm          1045.6                5                     12           0.417        773.666667     remain                45.5        0               0.417        1\n",
       "3  19 -0.77  0.27  14       0 to 6am           631.5                2                     13           0.154        747.571429     remain                41.0        0               0.462        0\n",
       "4  19 -0.77  0.27  14   12pm to 18pm            41.0                1                     13           0.077        747.571429     remain                41.0        1               0.462        0"
      ]
     },
     "execution_count": 21,
     "metadata": {},
     "output_type": "execute_result"
    }
   ],
   "source": [
    "## Rule 4 : Max number of emails timing\n",
    "rule_4 = rest_df_joined[rest_df_joined.preference!='min_20_percent']\n",
    "rule_4_max_percent_emails = rule_4.groupby(['id', 'X1', 'X2', 'M']).agg({'percent_emails':'max'}).reset_index()\n",
    "rule_4_max_percent_emails.columns = ['id', 'X1', 'X2', 'M','percent_emails_max']\n",
    "rule_4_joined = pd.merge(rule_4, rule_4_max_percent_emails, how='left', on=['id', 'X1', 'X2', 'M'], suffixes=('','_'))\n",
    "rule_4_joined.head()\n",
    "\n",
    "rule_4_joined['max_col'] = np.where(rule_4_joined.percent_emails==rule_4_joined.percent_emails_max,1,0)\n",
    "remain_df = rule_4_joined[rule_4_joined.max_col==1]\n",
    "xx = remain_df.id.unique()\n",
    "rule_4_joined['preference'] = np.where(rule_4_joined.id.isin(xx),'remain','unk')\n",
    "rule_4 = rule_4_joined\n",
    "rule_4_joined.head()"
   ]
  },
  {
   "cell_type": "markdown",
   "metadata": {},
   "source": [
    "###### 2.2 Combine rule for the different types of users"
   ]
  },
  {
   "cell_type": "code",
   "execution_count": 22,
   "metadata": {
    "ExecuteTime": {
     "end_time": "2020-01-21T01:49:18.104298Z",
     "start_time": "2020-01-21T01:49:17.908734Z"
    }
   },
   "outputs": [
    {
     "name": "stdout",
     "output_type": "stream",
     "text": [
      "18230\n"
     ]
    },
    {
     "data": {
      "text/html": [
       "<div>\n",
       "<style scoped>\n",
       "    .dataframe tbody tr th:only-of-type {\n",
       "        vertical-align: middle;\n",
       "    }\n",
       "\n",
       "    .dataframe tbody tr th {\n",
       "        vertical-align: top;\n",
       "    }\n",
       "\n",
       "    .dataframe thead th {\n",
       "        text-align: right;\n",
       "    }\n",
       "</style>\n",
       "<table border=\"1\" class=\"dataframe\">\n",
       "  <thead>\n",
       "    <tr style=\"text-align: right;\">\n",
       "      <th></th>\n",
       "      <th>id</th>\n",
       "      <th>X1</th>\n",
       "      <th>X2</th>\n",
       "      <th>M</th>\n",
       "      <th>opening_timing</th>\n",
       "      <th>time_diff_mean</th>\n",
       "      <th>time_diff_count</th>\n",
       "      <th>time_diff_count_total</th>\n",
       "      <th>percent_emails</th>\n",
       "      <th>avg_opening_time</th>\n",
       "      <th>preference</th>\n",
       "      <th>time_diff_min</th>\n",
       "      <th>same_flag</th>\n",
       "    </tr>\n",
       "  </thead>\n",
       "  <tbody>\n",
       "    <tr>\n",
       "      <th>0</th>\n",
       "      <td>2</td>\n",
       "      <td>-0.14</td>\n",
       "      <td>-3.21</td>\n",
       "      <td>1</td>\n",
       "      <td>12pm to 18pm</td>\n",
       "      <td>11.000000</td>\n",
       "      <td>1</td>\n",
       "      <td>1</td>\n",
       "      <td>1.000</td>\n",
       "      <td>11.000000</td>\n",
       "      <td>instant</td>\n",
       "      <td>11.000000</td>\n",
       "      <td>1</td>\n",
       "    </tr>\n",
       "    <tr>\n",
       "      <th>1</th>\n",
       "      <td>4</td>\n",
       "      <td>-0.38</td>\n",
       "      <td>-1.30</td>\n",
       "      <td>2</td>\n",
       "      <td>12pm to 18pm</td>\n",
       "      <td>38.000000</td>\n",
       "      <td>1</td>\n",
       "      <td>2</td>\n",
       "      <td>0.500</td>\n",
       "      <td>51.000000</td>\n",
       "      <td>instant</td>\n",
       "      <td>38.000000</td>\n",
       "      <td>1</td>\n",
       "    </tr>\n",
       "    <tr>\n",
       "      <th>3</th>\n",
       "      <td>13</td>\n",
       "      <td>-0.60</td>\n",
       "      <td>-1.76</td>\n",
       "      <td>7</td>\n",
       "      <td>12pm to 18pm</td>\n",
       "      <td>25.666667</td>\n",
       "      <td>3</td>\n",
       "      <td>7</td>\n",
       "      <td>0.429</td>\n",
       "      <td>43.571429</td>\n",
       "      <td>instant</td>\n",
       "      <td>25.666667</td>\n",
       "      <td>1</td>\n",
       "    </tr>\n",
       "    <tr>\n",
       "      <th>8</th>\n",
       "      <td>15</td>\n",
       "      <td>-1.05</td>\n",
       "      <td>-0.45</td>\n",
       "      <td>6</td>\n",
       "      <td>6am to 12pm</td>\n",
       "      <td>4.000000</td>\n",
       "      <td>1</td>\n",
       "      <td>6</td>\n",
       "      <td>0.167</td>\n",
       "      <td>53.500000</td>\n",
       "      <td>instant</td>\n",
       "      <td>4.000000</td>\n",
       "      <td>1</td>\n",
       "    </tr>\n",
       "    <tr>\n",
       "      <th>9</th>\n",
       "      <td>21</td>\n",
       "      <td>-0.25</td>\n",
       "      <td>-0.29</td>\n",
       "      <td>1</td>\n",
       "      <td>6am to 12pm</td>\n",
       "      <td>48.000000</td>\n",
       "      <td>1</td>\n",
       "      <td>1</td>\n",
       "      <td>1.000</td>\n",
       "      <td>48.000000</td>\n",
       "      <td>instant</td>\n",
       "      <td>48.000000</td>\n",
       "      <td>1</td>\n",
       "    </tr>\n",
       "  </tbody>\n",
       "</table>\n",
       "</div>"
      ],
      "text/plain": [
       "   id    X1    X2  M opening_timing  time_diff_mean  time_diff_count  time_diff_count_total  percent_emails  avg_opening_time preference  time_diff_min  same_flag\n",
       "0   2 -0.14 -3.21  1   12pm to 18pm       11.000000                1                      1           1.000         11.000000    instant      11.000000          1\n",
       "1   4 -0.38 -1.30  2   12pm to 18pm       38.000000                1                      2           0.500         51.000000    instant      38.000000          1\n",
       "3  13 -0.60 -1.76  7   12pm to 18pm       25.666667                3                      7           0.429         43.571429    instant      25.666667          1\n",
       "8  15 -1.05 -0.45  6    6am to 12pm        4.000000                1                      6           0.167         53.500000    instant       4.000000          1\n",
       "9  21 -0.25 -0.29  1    6am to 12pm       48.000000                1                      1           1.000         48.000000    instant      48.000000          1"
      ]
     },
     "execution_count": 22,
     "metadata": {},
     "output_type": "execute_result"
    }
   ],
   "source": [
    "## Take only one time for each user\n",
    "# Rule 1\n",
    "rule_1_unique = rule_1.groupby(['id', 'X1', 'X2', 'M']).agg({'time_diff_mean':'min'}).reset_index()\n",
    "rule_1_unique.columns = ['id', 'X1', 'X2', 'M','time_diff_min']\n",
    "rule_1_unique = pd.merge(rule_1, rule_1_unique, how='left', on=['id', 'X1', 'X2', 'M'], suffixes=('','_'))\n",
    "\n",
    "rule_1_unique['same_flag'] = np.where(rule_1_unique.time_diff_mean==rule_1_unique.time_diff_min,1,0)\n",
    "rule_1_unique = rule_1_unique[rule_1_unique.same_flag==1]\n",
    "print(rule_1_unique.id.nunique())\n",
    "rule_1_unique.head()"
   ]
  },
  {
   "cell_type": "code",
   "execution_count": 23,
   "metadata": {
    "ExecuteTime": {
     "end_time": "2020-01-21T01:49:18.307029Z",
     "start_time": "2020-01-21T01:49:18.111861Z"
    }
   },
   "outputs": [
    {
     "name": "stdout",
     "output_type": "stream",
     "text": [
      "22566\n"
     ]
    },
    {
     "data": {
      "text/html": [
       "<div>\n",
       "<style scoped>\n",
       "    .dataframe tbody tr th:only-of-type {\n",
       "        vertical-align: middle;\n",
       "    }\n",
       "\n",
       "    .dataframe tbody tr th {\n",
       "        vertical-align: top;\n",
       "    }\n",
       "\n",
       "    .dataframe thead th {\n",
       "        text-align: right;\n",
       "    }\n",
       "</style>\n",
       "<table border=\"1\" class=\"dataframe\">\n",
       "  <thead>\n",
       "    <tr style=\"text-align: right;\">\n",
       "      <th></th>\n",
       "      <th>id</th>\n",
       "      <th>X1</th>\n",
       "      <th>X2</th>\n",
       "      <th>M</th>\n",
       "      <th>opening_timing</th>\n",
       "      <th>time_diff_mean</th>\n",
       "      <th>time_diff_count</th>\n",
       "      <th>time_diff_count_total</th>\n",
       "      <th>percent_emails</th>\n",
       "      <th>avg_opening_time</th>\n",
       "      <th>preference</th>\n",
       "      <th>percent_emails_max</th>\n",
       "      <th>same_flag</th>\n",
       "    </tr>\n",
       "  </thead>\n",
       "  <tbody>\n",
       "    <tr>\n",
       "      <th>0</th>\n",
       "      <td>3</td>\n",
       "      <td>1.23</td>\n",
       "      <td>0.08</td>\n",
       "      <td>1</td>\n",
       "      <td>6am to 12pm</td>\n",
       "      <td>862.000000</td>\n",
       "      <td>1</td>\n",
       "      <td>1</td>\n",
       "      <td>1.000</td>\n",
       "      <td>862.000000</td>\n",
       "      <td>one_time</td>\n",
       "      <td>1.000</td>\n",
       "      <td>1</td>\n",
       "    </tr>\n",
       "    <tr>\n",
       "      <th>2</th>\n",
       "      <td>9</td>\n",
       "      <td>0.23</td>\n",
       "      <td>1.55</td>\n",
       "      <td>9</td>\n",
       "      <td>6am to 12pm</td>\n",
       "      <td>656.142857</td>\n",
       "      <td>7</td>\n",
       "      <td>9</td>\n",
       "      <td>0.778</td>\n",
       "      <td>655.111111</td>\n",
       "      <td>one_time</td>\n",
       "      <td>0.778</td>\n",
       "      <td>1</td>\n",
       "    </tr>\n",
       "    <tr>\n",
       "      <th>4</th>\n",
       "      <td>10</td>\n",
       "      <td>0.17</td>\n",
       "      <td>2.88</td>\n",
       "      <td>6</td>\n",
       "      <td>6am to 12pm</td>\n",
       "      <td>1136.800000</td>\n",
       "      <td>5</td>\n",
       "      <td>6</td>\n",
       "      <td>0.833</td>\n",
       "      <td>1166.000000</td>\n",
       "      <td>one_time</td>\n",
       "      <td>0.833</td>\n",
       "      <td>1</td>\n",
       "    </tr>\n",
       "    <tr>\n",
       "      <th>6</th>\n",
       "      <td>12</td>\n",
       "      <td>-0.42</td>\n",
       "      <td>0.03</td>\n",
       "      <td>10</td>\n",
       "      <td>6am to 12pm</td>\n",
       "      <td>664.000000</td>\n",
       "      <td>8</td>\n",
       "      <td>9</td>\n",
       "      <td>0.889</td>\n",
       "      <td>634.200000</td>\n",
       "      <td>one_time</td>\n",
       "      <td>0.889</td>\n",
       "      <td>1</td>\n",
       "    </tr>\n",
       "    <tr>\n",
       "      <th>9</th>\n",
       "      <td>14</td>\n",
       "      <td>0.64</td>\n",
       "      <td>1.10</td>\n",
       "      <td>14</td>\n",
       "      <td>6am to 12pm</td>\n",
       "      <td>1147.900000</td>\n",
       "      <td>10</td>\n",
       "      <td>14</td>\n",
       "      <td>0.714</td>\n",
       "      <td>917.285714</td>\n",
       "      <td>one_time</td>\n",
       "      <td>0.714</td>\n",
       "      <td>1</td>\n",
       "    </tr>\n",
       "  </tbody>\n",
       "</table>\n",
       "</div>"
      ],
      "text/plain": [
       "   id    X1    X2   M opening_timing  time_diff_mean  time_diff_count  time_diff_count_total  percent_emails  avg_opening_time preference  percent_emails_max  same_flag\n",
       "0   3  1.23  0.08   1    6am to 12pm      862.000000                1                      1           1.000        862.000000   one_time               1.000          1\n",
       "2   9  0.23  1.55   9    6am to 12pm      656.142857                7                      9           0.778        655.111111   one_time               0.778          1\n",
       "4  10  0.17  2.88   6    6am to 12pm     1136.800000                5                      6           0.833       1166.000000   one_time               0.833          1\n",
       "6  12 -0.42  0.03  10    6am to 12pm      664.000000                8                      9           0.889        634.200000   one_time               0.889          1\n",
       "9  14  0.64  1.10  14    6am to 12pm     1147.900000               10                     14           0.714        917.285714   one_time               0.714          1"
      ]
     },
     "execution_count": 23,
     "metadata": {},
     "output_type": "execute_result"
    }
   ],
   "source": [
    "# Rule 2\n",
    "rule_2_unique = rule_2.groupby(['id', 'X1', 'X2', 'M']).agg({'percent_emails':'max'}).reset_index()\n",
    "rule_2_unique.columns = ['id', 'X1', 'X2', 'M','percent_emails_max']\n",
    "rule_2_unique = pd.merge(rule_2, rule_2_unique, how='left', on=['id', 'X1', 'X2', 'M'], suffixes=('','_'))\n",
    "\n",
    "rule_2_unique['same_flag'] = np.where(rule_2_unique.percent_emails==rule_2_unique.percent_emails_max,1,0)\n",
    "rule_2_unique = rule_2_unique[rule_2_unique.same_flag==1]\n",
    "print(rule_2_unique.id.nunique())\n",
    "rule_2_unique.head()"
   ]
  },
  {
   "cell_type": "code",
   "execution_count": 24,
   "metadata": {
    "ExecuteTime": {
     "end_time": "2020-01-21T01:49:18.438506Z",
     "start_time": "2020-01-21T01:49:18.312236Z"
    }
   },
   "outputs": [
    {
     "name": "stdout",
     "output_type": "stream",
     "text": [
      "45845\n"
     ]
    },
    {
     "data": {
      "text/html": [
       "<div>\n",
       "<style scoped>\n",
       "    .dataframe tbody tr th:only-of-type {\n",
       "        vertical-align: middle;\n",
       "    }\n",
       "\n",
       "    .dataframe tbody tr th {\n",
       "        vertical-align: top;\n",
       "    }\n",
       "\n",
       "    .dataframe thead th {\n",
       "        text-align: right;\n",
       "    }\n",
       "</style>\n",
       "<table border=\"1\" class=\"dataframe\">\n",
       "  <thead>\n",
       "    <tr style=\"text-align: right;\">\n",
       "      <th></th>\n",
       "      <th>id</th>\n",
       "      <th>X1</th>\n",
       "      <th>X2</th>\n",
       "      <th>M</th>\n",
       "      <th>opening_timing</th>\n",
       "      <th>time_diff_mean</th>\n",
       "      <th>time_diff_count</th>\n",
       "      <th>time_diff_count_total</th>\n",
       "      <th>percent_emails</th>\n",
       "      <th>avg_opening_time</th>\n",
       "      <th>preference</th>\n",
       "      <th>time_diff_mean_min</th>\n",
       "      <th>min_col</th>\n",
       "    </tr>\n",
       "  </thead>\n",
       "  <tbody>\n",
       "    <tr>\n",
       "      <th>1</th>\n",
       "      <td>1</td>\n",
       "      <td>-1.25</td>\n",
       "      <td>-0.88</td>\n",
       "      <td>14</td>\n",
       "      <td>18pm to 23pm</td>\n",
       "      <td>363.0</td>\n",
       "      <td>5</td>\n",
       "      <td>14</td>\n",
       "      <td>0.357</td>\n",
       "      <td>934.428571</td>\n",
       "      <td>min_20_percent</td>\n",
       "      <td>363.0</td>\n",
       "      <td>1</td>\n",
       "    </tr>\n",
       "    <tr>\n",
       "      <th>5</th>\n",
       "      <td>5</td>\n",
       "      <td>-1.50</td>\n",
       "      <td>0.22</td>\n",
       "      <td>6</td>\n",
       "      <td>6am to 12pm</td>\n",
       "      <td>103.0</td>\n",
       "      <td>1</td>\n",
       "      <td>5</td>\n",
       "      <td>0.200</td>\n",
       "      <td>402.333333</td>\n",
       "      <td>min_20_percent</td>\n",
       "      <td>103.0</td>\n",
       "      <td>1</td>\n",
       "    </tr>\n",
       "    <tr>\n",
       "      <th>6</th>\n",
       "      <td>6</td>\n",
       "      <td>0.31</td>\n",
       "      <td>-1.96</td>\n",
       "      <td>6</td>\n",
       "      <td>12pm to 18pm</td>\n",
       "      <td>37.0</td>\n",
       "      <td>1</td>\n",
       "      <td>5</td>\n",
       "      <td>0.200</td>\n",
       "      <td>433.000000</td>\n",
       "      <td>min_20_percent</td>\n",
       "      <td>37.0</td>\n",
       "      <td>1</td>\n",
       "    </tr>\n",
       "    <tr>\n",
       "      <th>12</th>\n",
       "      <td>8</td>\n",
       "      <td>-0.39</td>\n",
       "      <td>-1.88</td>\n",
       "      <td>3</td>\n",
       "      <td>18pm to 23pm</td>\n",
       "      <td>434.0</td>\n",
       "      <td>2</td>\n",
       "      <td>3</td>\n",
       "      <td>0.667</td>\n",
       "      <td>660.333333</td>\n",
       "      <td>min_20_percent</td>\n",
       "      <td>434.0</td>\n",
       "      <td>1</td>\n",
       "    </tr>\n",
       "    <tr>\n",
       "      <th>16</th>\n",
       "      <td>11</td>\n",
       "      <td>0.61</td>\n",
       "      <td>-0.18</td>\n",
       "      <td>7</td>\n",
       "      <td>18pm to 23pm</td>\n",
       "      <td>361.0</td>\n",
       "      <td>2</td>\n",
       "      <td>6</td>\n",
       "      <td>0.333</td>\n",
       "      <td>669.857143</td>\n",
       "      <td>min_20_percent</td>\n",
       "      <td>361.0</td>\n",
       "      <td>1</td>\n",
       "    </tr>\n",
       "  </tbody>\n",
       "</table>\n",
       "</div>"
      ],
      "text/plain": [
       "    id    X1    X2   M opening_timing  time_diff_mean  time_diff_count  time_diff_count_total  percent_emails  avg_opening_time      preference  time_diff_mean_min  min_col\n",
       "1    1 -1.25 -0.88  14   18pm to 23pm           363.0                5                     14           0.357        934.428571  min_20_percent               363.0        1\n",
       "5    5 -1.50  0.22   6    6am to 12pm           103.0                1                      5           0.200        402.333333  min_20_percent               103.0        1\n",
       "6    6  0.31 -1.96   6   12pm to 18pm            37.0                1                      5           0.200        433.000000  min_20_percent                37.0        1\n",
       "12   8 -0.39 -1.88   3   18pm to 23pm           434.0                2                      3           0.667        660.333333  min_20_percent               434.0        1\n",
       "16  11  0.61 -0.18   7   18pm to 23pm           361.0                2                      6           0.333        669.857143  min_20_percent               361.0        1"
      ]
     },
     "execution_count": 24,
     "metadata": {},
     "output_type": "execute_result"
    }
   ],
   "source": [
    "# Rule 3\n",
    "rule_3_unique = rule_3[rule_3.min_col==1]\n",
    "print(rule_3_unique[rule_3_unique.min_col==1].id.nunique())\n",
    "rule_3_unique.head()"
   ]
  },
  {
   "cell_type": "code",
   "execution_count": 25,
   "metadata": {
    "ExecuteTime": {
     "end_time": "2020-01-21T01:49:18.543427Z",
     "start_time": "2020-01-21T01:49:18.441853Z"
    }
   },
   "outputs": [
    {
     "name": "stdout",
     "output_type": "stream",
     "text": [
      "13210\n"
     ]
    },
    {
     "data": {
      "text/html": [
       "<div>\n",
       "<style scoped>\n",
       "    .dataframe tbody tr th:only-of-type {\n",
       "        vertical-align: middle;\n",
       "    }\n",
       "\n",
       "    .dataframe tbody tr th {\n",
       "        vertical-align: top;\n",
       "    }\n",
       "\n",
       "    .dataframe thead th {\n",
       "        text-align: right;\n",
       "    }\n",
       "</style>\n",
       "<table border=\"1\" class=\"dataframe\">\n",
       "  <thead>\n",
       "    <tr style=\"text-align: right;\">\n",
       "      <th></th>\n",
       "      <th>id</th>\n",
       "      <th>X1</th>\n",
       "      <th>X2</th>\n",
       "      <th>M</th>\n",
       "      <th>opening_timing</th>\n",
       "      <th>time_diff_mean</th>\n",
       "      <th>time_diff_count</th>\n",
       "      <th>time_diff_count_total</th>\n",
       "      <th>percent_emails</th>\n",
       "      <th>avg_opening_time</th>\n",
       "      <th>preference</th>\n",
       "      <th>time_diff_mean_min</th>\n",
       "      <th>min_col</th>\n",
       "      <th>percent_emails_max</th>\n",
       "      <th>max_col</th>\n",
       "    </tr>\n",
       "  </thead>\n",
       "  <tbody>\n",
       "    <tr>\n",
       "      <th>0</th>\n",
       "      <td>7</td>\n",
       "      <td>1.00</td>\n",
       "      <td>0.84</td>\n",
       "      <td>12</td>\n",
       "      <td>12pm to 18pm</td>\n",
       "      <td>793.000000</td>\n",
       "      <td>5</td>\n",
       "      <td>12</td>\n",
       "      <td>0.417</td>\n",
       "      <td>773.666667</td>\n",
       "      <td>remain</td>\n",
       "      <td>45.5</td>\n",
       "      <td>0</td>\n",
       "      <td>0.417</td>\n",
       "      <td>1</td>\n",
       "    </tr>\n",
       "    <tr>\n",
       "      <th>2</th>\n",
       "      <td>7</td>\n",
       "      <td>1.00</td>\n",
       "      <td>0.84</td>\n",
       "      <td>12</td>\n",
       "      <td>6am to 12pm</td>\n",
       "      <td>1045.600000</td>\n",
       "      <td>5</td>\n",
       "      <td>12</td>\n",
       "      <td>0.417</td>\n",
       "      <td>773.666667</td>\n",
       "      <td>remain</td>\n",
       "      <td>45.5</td>\n",
       "      <td>0</td>\n",
       "      <td>0.417</td>\n",
       "      <td>1</td>\n",
       "    </tr>\n",
       "    <tr>\n",
       "      <th>6</th>\n",
       "      <td>19</td>\n",
       "      <td>-0.77</td>\n",
       "      <td>0.27</td>\n",
       "      <td>14</td>\n",
       "      <td>6am to 12pm</td>\n",
       "      <td>865.333333</td>\n",
       "      <td>6</td>\n",
       "      <td>13</td>\n",
       "      <td>0.462</td>\n",
       "      <td>747.571429</td>\n",
       "      <td>remain</td>\n",
       "      <td>41.0</td>\n",
       "      <td>0</td>\n",
       "      <td>0.462</td>\n",
       "      <td>1</td>\n",
       "    </tr>\n",
       "    <tr>\n",
       "      <th>9</th>\n",
       "      <td>23</td>\n",
       "      <td>-0.47</td>\n",
       "      <td>3.49</td>\n",
       "      <td>15</td>\n",
       "      <td>18pm to 23pm</td>\n",
       "      <td>520.571429</td>\n",
       "      <td>7</td>\n",
       "      <td>13</td>\n",
       "      <td>0.538</td>\n",
       "      <td>771.600000</td>\n",
       "      <td>remain</td>\n",
       "      <td>333.0</td>\n",
       "      <td>0</td>\n",
       "      <td>0.538</td>\n",
       "      <td>1</td>\n",
       "    </tr>\n",
       "    <tr>\n",
       "      <th>13</th>\n",
       "      <td>27</td>\n",
       "      <td>2.11</td>\n",
       "      <td>-0.27</td>\n",
       "      <td>6</td>\n",
       "      <td>6am to 12pm</td>\n",
       "      <td>583.666667</td>\n",
       "      <td>3</td>\n",
       "      <td>6</td>\n",
       "      <td>0.500</td>\n",
       "      <td>450.000000</td>\n",
       "      <td>remain</td>\n",
       "      <td>283.0</td>\n",
       "      <td>0</td>\n",
       "      <td>0.500</td>\n",
       "      <td>1</td>\n",
       "    </tr>\n",
       "  </tbody>\n",
       "</table>\n",
       "</div>"
      ],
      "text/plain": [
       "    id    X1    X2   M opening_timing  time_diff_mean  time_diff_count  time_diff_count_total  percent_emails  avg_opening_time preference  time_diff_mean_min  min_col  percent_emails_max  max_col\n",
       "0    7  1.00  0.84  12   12pm to 18pm      793.000000                5                     12           0.417        773.666667     remain                45.5        0               0.417        1\n",
       "2    7  1.00  0.84  12    6am to 12pm     1045.600000                5                     12           0.417        773.666667     remain                45.5        0               0.417        1\n",
       "6   19 -0.77  0.27  14    6am to 12pm      865.333333                6                     13           0.462        747.571429     remain                41.0        0               0.462        1\n",
       "9   23 -0.47  3.49  15   18pm to 23pm      520.571429                7                     13           0.538        771.600000     remain               333.0        0               0.538        1\n",
       "13  27  2.11 -0.27   6    6am to 12pm      583.666667                3                      6           0.500        450.000000     remain               283.0        0               0.500        1"
      ]
     },
     "execution_count": 25,
     "metadata": {},
     "output_type": "execute_result"
    }
   ],
   "source": [
    "# Rule 4\n",
    "rule_4_unique = rule_4[rule_4.max_col==1]\n",
    "print(rule_4_unique[rule_4_unique.max_col==1].id.nunique())\n",
    "rule_4_unique.head()"
   ]
  },
  {
   "cell_type": "code",
   "execution_count": 26,
   "metadata": {
    "ExecuteTime": {
     "end_time": "2020-01-21T01:49:22.894607Z",
     "start_time": "2020-01-21T01:49:18.547334Z"
    },
    "scrolled": true
   },
   "outputs": [
    {
     "name": "stdout",
     "output_type": "stream",
     "text": [
      "(386876, 18)\n",
      "99851\n"
     ]
    },
    {
     "data": {
      "text/html": [
       "<div>\n",
       "<style scoped>\n",
       "    .dataframe tbody tr th:only-of-type {\n",
       "        vertical-align: middle;\n",
       "    }\n",
       "\n",
       "    .dataframe tbody tr th {\n",
       "        vertical-align: top;\n",
       "    }\n",
       "\n",
       "    .dataframe thead th {\n",
       "        text-align: right;\n",
       "    }\n",
       "</style>\n",
       "<table border=\"1\" class=\"dataframe\">\n",
       "  <thead>\n",
       "    <tr style=\"text-align: right;\">\n",
       "      <th></th>\n",
       "      <th>id</th>\n",
       "      <th>X1</th>\n",
       "      <th>X2</th>\n",
       "      <th>X3</th>\n",
       "      <th>M</th>\n",
       "      <th>TS</th>\n",
       "      <th>TO</th>\n",
       "      <th>opening_timing</th>\n",
       "      <th>hour_TS</th>\n",
       "      <th>hour_TO</th>\n",
       "      <th>date_TS</th>\n",
       "      <th>date_TO</th>\n",
       "      <th>time_diff</th>\n",
       "      <th>same_flag</th>\n",
       "      <th>same_flag_rule_2</th>\n",
       "      <th>min_col</th>\n",
       "      <th>max_col</th>\n",
       "      <th>keep_row</th>\n",
       "    </tr>\n",
       "  </thead>\n",
       "  <tbody>\n",
       "    <tr>\n",
       "      <th>1</th>\n",
       "      <td>55001</td>\n",
       "      <td>-0.97</td>\n",
       "      <td>-1.16</td>\n",
       "      <td>0</td>\n",
       "      <td>2</td>\n",
       "      <td>14:00</td>\n",
       "      <td>14:16</td>\n",
       "      <td>12pm to 18pm</td>\n",
       "      <td>14</td>\n",
       "      <td>14</td>\n",
       "      <td>2020-01-21 14:00:00</td>\n",
       "      <td>2020-01-21 14:16:00</td>\n",
       "      <td>16.0</td>\n",
       "      <td>1.0</td>\n",
       "      <td>0.0</td>\n",
       "      <td>0.0</td>\n",
       "      <td>0.0</td>\n",
       "      <td>1.0</td>\n",
       "    </tr>\n",
       "    <tr>\n",
       "      <th>5</th>\n",
       "      <td>55002</td>\n",
       "      <td>0.83</td>\n",
       "      <td>-0.29</td>\n",
       "      <td>1</td>\n",
       "      <td>13</td>\n",
       "      <td>19:00</td>\n",
       "      <td>17:55</td>\n",
       "      <td>12pm to 18pm</td>\n",
       "      <td>19</td>\n",
       "      <td>17</td>\n",
       "      <td>2020-01-20 19:00:00</td>\n",
       "      <td>2020-01-21 17:55:00</td>\n",
       "      <td>1375.0</td>\n",
       "      <td>0.0</td>\n",
       "      <td>0.0</td>\n",
       "      <td>1.0</td>\n",
       "      <td>0.0</td>\n",
       "      <td>1.0</td>\n",
       "    </tr>\n",
       "    <tr>\n",
       "      <th>6</th>\n",
       "      <td>55002</td>\n",
       "      <td>0.83</td>\n",
       "      <td>-0.29</td>\n",
       "      <td>1</td>\n",
       "      <td>13</td>\n",
       "      <td>12:00</td>\n",
       "      <td>13:08</td>\n",
       "      <td>12pm to 18pm</td>\n",
       "      <td>12</td>\n",
       "      <td>13</td>\n",
       "      <td>2020-01-21 12:00:00</td>\n",
       "      <td>2020-01-21 13:08:00</td>\n",
       "      <td>68.0</td>\n",
       "      <td>0.0</td>\n",
       "      <td>0.0</td>\n",
       "      <td>1.0</td>\n",
       "      <td>0.0</td>\n",
       "      <td>1.0</td>\n",
       "    </tr>\n",
       "    <tr>\n",
       "      <th>8</th>\n",
       "      <td>55002</td>\n",
       "      <td>0.83</td>\n",
       "      <td>-0.29</td>\n",
       "      <td>1</td>\n",
       "      <td>13</td>\n",
       "      <td>14:00</td>\n",
       "      <td>14:31</td>\n",
       "      <td>12pm to 18pm</td>\n",
       "      <td>14</td>\n",
       "      <td>14</td>\n",
       "      <td>2020-01-21 14:00:00</td>\n",
       "      <td>2020-01-21 14:31:00</td>\n",
       "      <td>31.0</td>\n",
       "      <td>0.0</td>\n",
       "      <td>0.0</td>\n",
       "      <td>1.0</td>\n",
       "      <td>0.0</td>\n",
       "      <td>1.0</td>\n",
       "    </tr>\n",
       "    <tr>\n",
       "      <th>12</th>\n",
       "      <td>55002</td>\n",
       "      <td>0.83</td>\n",
       "      <td>-0.29</td>\n",
       "      <td>1</td>\n",
       "      <td>13</td>\n",
       "      <td>10:00</td>\n",
       "      <td>14:45</td>\n",
       "      <td>12pm to 18pm</td>\n",
       "      <td>10</td>\n",
       "      <td>14</td>\n",
       "      <td>2020-01-21 10:00:00</td>\n",
       "      <td>2020-01-21 14:45:00</td>\n",
       "      <td>285.0</td>\n",
       "      <td>0.0</td>\n",
       "      <td>0.0</td>\n",
       "      <td>1.0</td>\n",
       "      <td>0.0</td>\n",
       "      <td>1.0</td>\n",
       "    </tr>\n",
       "    <tr>\n",
       "      <th>16</th>\n",
       "      <td>55003</td>\n",
       "      <td>-0.42</td>\n",
       "      <td>-0.14</td>\n",
       "      <td>3</td>\n",
       "      <td>7</td>\n",
       "      <td>20:00</td>\n",
       "      <td>21:23</td>\n",
       "      <td>18pm to 23pm</td>\n",
       "      <td>20</td>\n",
       "      <td>21</td>\n",
       "      <td>2020-01-21 20:00:00</td>\n",
       "      <td>2020-01-21 21:23:00</td>\n",
       "      <td>83.0</td>\n",
       "      <td>0.0</td>\n",
       "      <td>0.0</td>\n",
       "      <td>1.0</td>\n",
       "      <td>0.0</td>\n",
       "      <td>1.0</td>\n",
       "    </tr>\n",
       "    <tr>\n",
       "      <th>20</th>\n",
       "      <td>55003</td>\n",
       "      <td>-0.42</td>\n",
       "      <td>-0.14</td>\n",
       "      <td>3</td>\n",
       "      <td>7</td>\n",
       "      <td>20:00</td>\n",
       "      <td>20:01</td>\n",
       "      <td>18pm to 23pm</td>\n",
       "      <td>20</td>\n",
       "      <td>20</td>\n",
       "      <td>2020-01-21 20:00:00</td>\n",
       "      <td>2020-01-21 20:01:00</td>\n",
       "      <td>1.0</td>\n",
       "      <td>0.0</td>\n",
       "      <td>0.0</td>\n",
       "      <td>1.0</td>\n",
       "      <td>0.0</td>\n",
       "      <td>1.0</td>\n",
       "    </tr>\n",
       "    <tr>\n",
       "      <th>22</th>\n",
       "      <td>55004</td>\n",
       "      <td>0.26</td>\n",
       "      <td>0.79</td>\n",
       "      <td>1</td>\n",
       "      <td>3</td>\n",
       "      <td>20:00</td>\n",
       "      <td>09:19</td>\n",
       "      <td>6am to 12pm</td>\n",
       "      <td>20</td>\n",
       "      <td>9</td>\n",
       "      <td>2020-01-20 20:00:00</td>\n",
       "      <td>2020-01-21 09:19:00</td>\n",
       "      <td>799.0</td>\n",
       "      <td>0.0</td>\n",
       "      <td>1.0</td>\n",
       "      <td>0.0</td>\n",
       "      <td>0.0</td>\n",
       "      <td>1.0</td>\n",
       "    </tr>\n",
       "    <tr>\n",
       "      <th>23</th>\n",
       "      <td>55004</td>\n",
       "      <td>0.26</td>\n",
       "      <td>0.79</td>\n",
       "      <td>1</td>\n",
       "      <td>3</td>\n",
       "      <td>12:00</td>\n",
       "      <td>08:33</td>\n",
       "      <td>6am to 12pm</td>\n",
       "      <td>12</td>\n",
       "      <td>8</td>\n",
       "      <td>2020-01-20 12:00:00</td>\n",
       "      <td>2020-01-21 08:33:00</td>\n",
       "      <td>1233.0</td>\n",
       "      <td>0.0</td>\n",
       "      <td>1.0</td>\n",
       "      <td>0.0</td>\n",
       "      <td>0.0</td>\n",
       "      <td>1.0</td>\n",
       "    </tr>\n",
       "    <tr>\n",
       "      <th>24</th>\n",
       "      <td>55004</td>\n",
       "      <td>0.26</td>\n",
       "      <td>0.79</td>\n",
       "      <td>1</td>\n",
       "      <td>3</td>\n",
       "      <td>11:00</td>\n",
       "      <td>09:47</td>\n",
       "      <td>6am to 12pm</td>\n",
       "      <td>11</td>\n",
       "      <td>9</td>\n",
       "      <td>2020-01-20 11:00:00</td>\n",
       "      <td>2020-01-21 09:47:00</td>\n",
       "      <td>1367.0</td>\n",
       "      <td>0.0</td>\n",
       "      <td>1.0</td>\n",
       "      <td>0.0</td>\n",
       "      <td>0.0</td>\n",
       "      <td>1.0</td>\n",
       "    </tr>\n",
       "  </tbody>\n",
       "</table>\n",
       "</div>"
      ],
      "text/plain": [
       "       id    X1    X2  X3   M     TS     TO opening_timing  hour_TS  hour_TO             date_TS             date_TO  time_diff  same_flag  same_flag_rule_2  min_col  max_col  keep_row\n",
       "1   55001 -0.97 -1.16   0   2  14:00  14:16   12pm to 18pm       14       14 2020-01-21 14:00:00 2020-01-21 14:16:00       16.0        1.0               0.0      0.0      0.0       1.0\n",
       "5   55002  0.83 -0.29   1  13  19:00  17:55   12pm to 18pm       19       17 2020-01-20 19:00:00 2020-01-21 17:55:00     1375.0        0.0               0.0      1.0      0.0       1.0\n",
       "6   55002  0.83 -0.29   1  13  12:00  13:08   12pm to 18pm       12       13 2020-01-21 12:00:00 2020-01-21 13:08:00       68.0        0.0               0.0      1.0      0.0       1.0\n",
       "8   55002  0.83 -0.29   1  13  14:00  14:31   12pm to 18pm       14       14 2020-01-21 14:00:00 2020-01-21 14:31:00       31.0        0.0               0.0      1.0      0.0       1.0\n",
       "12  55002  0.83 -0.29   1  13  10:00  14:45   12pm to 18pm       10       14 2020-01-21 10:00:00 2020-01-21 14:45:00      285.0        0.0               0.0      1.0      0.0       1.0\n",
       "16  55003 -0.42 -0.14   3   7  20:00  21:23   18pm to 23pm       20       21 2020-01-21 20:00:00 2020-01-21 21:23:00       83.0        0.0               0.0      1.0      0.0       1.0\n",
       "20  55003 -0.42 -0.14   3   7  20:00  20:01   18pm to 23pm       20       20 2020-01-21 20:00:00 2020-01-21 20:01:00        1.0        0.0               0.0      1.0      0.0       1.0\n",
       "22  55004  0.26  0.79   1   3  20:00  09:19    6am to 12pm       20        9 2020-01-20 20:00:00 2020-01-21 09:19:00      799.0        0.0               1.0      0.0      0.0       1.0\n",
       "23  55004  0.26  0.79   1   3  12:00  08:33    6am to 12pm       12        8 2020-01-20 12:00:00 2020-01-21 08:33:00     1233.0        0.0               1.0      0.0      0.0       1.0\n",
       "24  55004  0.26  0.79   1   3  11:00  09:47    6am to 12pm       11        9 2020-01-20 11:00:00 2020-01-21 09:47:00     1367.0        0.0               1.0      0.0      0.0       1.0"
      ]
     },
     "execution_count": 26,
     "metadata": {},
     "output_type": "execute_result"
    }
   ],
   "source": [
    "## Merge with the raw_data_restructure\n",
    "final_data = raw_data_restructure.copy()\n",
    "final_data = pd.merge(final_data, rule_1_unique[['id', 'X1', 'X2', 'M','opening_timing','same_flag']], on=['id', 'X1', 'X2', 'M','opening_timing'], how='left', suffixes=('','_rule_1'))\n",
    "final_data = pd.merge(final_data, rule_2_unique[['id', 'X1', 'X2', 'M','opening_timing','same_flag']], on=['id', 'X1', 'X2', 'M','opening_timing'], how='left', suffixes=('','_rule_2'))\n",
    "final_data = pd.merge(final_data, rule_3_unique[['id', 'X1', 'X2', 'M','opening_timing','min_col']], on=['id', 'X1', 'X2', 'M','opening_timing'], how='left', suffixes=('','_rule_3'))\n",
    "final_data = pd.merge(final_data, rule_4_unique[['id', 'X1', 'X2', 'M','opening_timing','max_col']], on=['id', 'X1', 'X2', 'M','opening_timing'], how='left', suffixes=('','_rule_4'))\n",
    "final_data = final_data.fillna(0)\n",
    "final_data['keep_row'] = final_data['same_flag']+final_data['same_flag_rule_2']+final_data['min_col']+final_data['max_col']\n",
    "final_data = final_data[final_data.keep_row>0]\n",
    "\n",
    "print(final_data.shape)\n",
    "print(final_data.id.nunique())\n",
    "final_data.head(10)"
   ]
  },
  {
   "cell_type": "code",
   "execution_count": 27,
   "metadata": {
    "ExecuteTime": {
     "end_time": "2020-01-21T01:49:23.307089Z",
     "start_time": "2020-01-21T01:49:22.897094Z"
    }
   },
   "outputs": [
    {
     "name": "stdout",
     "output_type": "stream",
     "text": [
      "  opening_timing  count  sorting_index\n",
      "0       0 to 6am    680              0\n",
      "3    6am to 12pm  37254              1\n",
      "1   12pm to 18pm  27423              2\n",
      "2   18pm to 23pm  36194              3\n"
     ]
    },
    {
     "data": {
      "text/plain": [
       "Text(0,0.5,'Final User counts')"
      ]
     },
     "execution_count": 27,
     "metadata": {},
     "output_type": "execute_result"
    },
    {
     "data": {
      "image/png": "[encoded data removed]",
      "text/plain": [
       "<Figure size 432x288 with 1 Axes>"
      ]
     },
     "metadata": {
      "needs_background": "light"
     },
     "output_type": "display_data"
    }
   ],
   "source": [
    "temp = final_data.groupby(['opening_timing'])['id'].nunique().reset_index(name='count')\n",
    "sorting = {'0 to 6am':0,'6am to 12pm':1,'12pm to 18pm':2,'18pm to 23pm':3}\n",
    "temp['sorting_index'] = temp.opening_timing.map(sorting)\n",
    "temp = temp.sort_values('sorting_index')\n",
    "print(temp.head())\n",
    "temp.set_index(['opening_timing'])[['count']].plot.bar()\n",
    "plt.ylabel(\"Final User counts\")\n"
   ]
  },
  {
   "cell_type": "code",
   "execution_count": 28,
   "metadata": {
    "ExecuteTime": {
     "end_time": "2020-01-21T01:49:24.133169Z",
     "start_time": "2020-01-21T01:49:23.310422Z"
    }
   },
   "outputs": [
    {
     "data": {
      "text/html": [
       "<div>\n",
       "<style scoped>\n",
       "    .dataframe tbody tr th:only-of-type {\n",
       "        vertical-align: middle;\n",
       "    }\n",
       "\n",
       "    .dataframe tbody tr th {\n",
       "        vertical-align: top;\n",
       "    }\n",
       "\n",
       "    .dataframe thead th {\n",
       "        text-align: right;\n",
       "    }\n",
       "</style>\n",
       "<table border=\"1\" class=\"dataframe\">\n",
       "  <thead>\n",
       "    <tr style=\"text-align: right;\">\n",
       "      <th></th>\n",
       "      <th>id</th>\n",
       "      <th>X1</th>\n",
       "      <th>X2</th>\n",
       "      <th>X3</th>\n",
       "      <th>TO_minute</th>\n",
       "    </tr>\n",
       "  </thead>\n",
       "  <tbody>\n",
       "    <tr>\n",
       "      <th>0</th>\n",
       "      <td>1</td>\n",
       "      <td>-1.25</td>\n",
       "      <td>-0.88</td>\n",
       "      <td>2</td>\n",
       "      <td>1263.0</td>\n",
       "    </tr>\n",
       "    <tr>\n",
       "      <th>1</th>\n",
       "      <td>2</td>\n",
       "      <td>-0.14</td>\n",
       "      <td>-3.21</td>\n",
       "      <td>0</td>\n",
       "      <td>1031.0</td>\n",
       "    </tr>\n",
       "    <tr>\n",
       "      <th>2</th>\n",
       "      <td>3</td>\n",
       "      <td>1.23</td>\n",
       "      <td>0.08</td>\n",
       "      <td>3</td>\n",
       "      <td>562.0</td>\n",
       "    </tr>\n",
       "    <tr>\n",
       "      <th>3</th>\n",
       "      <td>4</td>\n",
       "      <td>-0.38</td>\n",
       "      <td>-1.30</td>\n",
       "      <td>3</td>\n",
       "      <td>758.0</td>\n",
       "    </tr>\n",
       "    <tr>\n",
       "      <th>4</th>\n",
       "      <td>5</td>\n",
       "      <td>-1.50</td>\n",
       "      <td>0.22</td>\n",
       "      <td>2</td>\n",
       "      <td>703.0</td>\n",
       "    </tr>\n",
       "  </tbody>\n",
       "</table>\n",
       "</div>"
      ],
      "text/plain": [
       "   id    X1    X2  X3  TO_minute\n",
       "0   1 -1.25 -0.88   2     1263.0\n",
       "1   2 -0.14 -3.21   0     1031.0\n",
       "2   3  1.23  0.08   3      562.0\n",
       "3   4 -0.38 -1.30   3      758.0\n",
       "4   5 -1.50  0.22   2      703.0"
      ]
     },
     "execution_count": 28,
     "metadata": {},
     "output_type": "execute_result"
    }
   ],
   "source": [
    "final_data['TO_minute'] = final_data['TO'].apply(lambda x: int(x.split(\":\")[0])*60 + int(x.split(\":\")[1]))\n",
    "final_data = final_data.groupby(['id', 'X1', 'X2','X3']).agg({'TO_minute':'mean'}).reset_index()\n",
    "final_data.head()"
   ]
  },
  {
   "cell_type": "code",
   "execution_count": null,
   "metadata": {},
   "outputs": [],
   "source": []
  },
  {
   "cell_type": "code",
   "execution_count": 29,
   "metadata": {
    "ExecuteTime": {
     "end_time": "2020-01-21T01:49:24.251000Z",
     "start_time": "2020-01-21T01:49:24.136105Z"
    }
   },
   "outputs": [
    {
     "name": "stdout",
     "output_type": "stream",
     "text": [
      "(99851, 5)\n",
      "(79880, 5)\n",
      "(79880, 1)\n",
      "(9985, 5)\n",
      "(9985, 1)\n",
      "(9986, 5)\n",
      "(9986, 1)\n"
     ]
    }
   ],
   "source": [
    "from sklearn.model_selection import train_test_split\n",
    "np.random.seed(123)\n",
    "\n",
    "y_data_modeling = final_data[['TO_minute']]\n",
    "# final_data = final_data.drop(['TO_minute'],axis=1)\n",
    "\n",
    "train_data_modeling, val_data_modeling, y_train_data_modeling, y_val_data_modeling = train_test_split(final_data, y_data_modeling, test_size=0.20, random_state=123)\n",
    "val_data_modeling, test_data_modeling, y_val_data_modeling, y_test_data_modeling = train_test_split(val_data_modeling, y_val_data_modeling, test_size=0.50, random_state=123)\n",
    "print(final_data.shape)\n",
    "print(train_data_modeling.shape)\n",
    "print(y_train_data_modeling.shape)\n",
    "print(val_data_modeling.shape)\n",
    "print(y_val_data_modeling.shape)\n",
    "print(test_data_modeling.shape)\n",
    "print(y_test_data_modeling.shape)\n"
   ]
  },
  {
   "cell_type": "markdown",
   "metadata": {},
   "source": [
    "##### 3. Building data pipeline for data processing"
   ]
  },
  {
   "cell_type": "code",
   "execution_count": 30,
   "metadata": {
    "ExecuteTime": {
     "end_time": "2020-01-21T01:49:24.444792Z",
     "start_time": "2020-01-21T01:49:24.253697Z"
    }
   },
   "outputs": [],
   "source": [
    "## Define columns \n",
    "selected_columns = ['id','X1','X2','X3']\n",
    "numerical_columns = ['X1','X2']\n",
    "low_cardinal_columns_before = ['X3']\n",
    "low_cardinal_columns_after = pd.get_dummies(final_data[['X3']].fillna('unk').astype('str')).columns.tolist()"
   ]
  },
  {
   "cell_type": "code",
   "execution_count": 31,
   "metadata": {
    "ExecuteTime": {
     "end_time": "2020-01-21T01:49:24.950998Z",
     "start_time": "2020-01-21T01:49:24.447620Z"
    }
   },
   "outputs": [],
   "source": [
    "## Data pipeline building\n",
    "from pairfinance.data_processing.pipeline import get_preprocess_pipeline\n",
    "\n",
    "train_pipeline = get_preprocess_pipeline(selected_columns=selected_columns,\n",
    "                                         numerical_columns=numerical_columns,\n",
    "                                         strategy='median',\n",
    "                                         low_card_columns_before=low_cardinal_columns_before,\n",
    "                                         low_card_columns_after=low_cardinal_columns_after\n",
    "                                        )\n",
    "\n",
    "train_pipeline.fit_transform(train_data_modeling)\n",
    "\n",
    "new_numerical_columns = train_pipeline.steps[1][1].transformer_list[0][1].steps[5][1].get_feature_names()\n",
    "new_low_card_columns = train_pipeline.steps[1][1].transformer_list[1][1].steps[3][1].get_feature_names()\n",
    "\n",
    "all_new_columns = new_numerical_columns + new_low_card_columns\n"
   ]
  },
  {
   "cell_type": "code",
   "execution_count": 32,
   "metadata": {
    "ExecuteTime": {
     "end_time": "2020-01-21T01:49:25.570566Z",
     "start_time": "2020-01-21T01:49:24.953484Z"
    },
    "scrolled": true
   },
   "outputs": [
    {
     "name": "stdout",
     "output_type": "stream",
     "text": [
      "(79880, 6)\n",
      "(9985, 6)\n",
      "(9986, 6)\n",
      "Time taken = 0.01951909065246582s\n"
     ]
    }
   ],
   "source": [
    "import time\n",
    "train_data_modeling_transformed = train_pipeline.transform(train_data_modeling)\n",
    "val_data_modeling_transformed = train_pipeline.transform(val_data_modeling)\n",
    "test_data_modeling_transformed= train_pipeline.transform(test_data_modeling)\n",
    "\n",
    "print(train_data_modeling_transformed.shape)\n",
    "print(val_data_modeling_transformed.shape)\n",
    "print(test_data_modeling_transformed.shape)\n",
    "\n",
    "t1 = time.time()\n",
    "train_pipeline.transform(train_data_modeling.head(1))\n",
    "t2 = time.time()\n",
    "print('Time taken = {}s'.format(t2 - t1))"
   ]
  },
  {
   "cell_type": "markdown",
   "metadata": {
    "ExecuteTime": {
     "end_time": "2020-01-19T20:26:09.008688Z",
     "start_time": "2020-01-19T20:26:08.946777Z"
    }
   },
   "source": [
    "##### 4. Modeling using XGBoost"
   ]
  },
  {
   "cell_type": "code",
   "execution_count": 33,
   "metadata": {
    "ExecuteTime": {
     "end_time": "2020-01-21T01:51:20.543377Z",
     "start_time": "2020-01-21T01:49:25.575238Z"
    },
    "scrolled": true
   },
   "outputs": [],
   "source": [
    "import xgboost as xgb\n",
    "np.random.seed(123)\n",
    "\n",
    "# XGBoost model run\n",
    "n=2000\n",
    "xgb_model = xgb.XGBRegressor(max_depth=4,\n",
    "                             learning_rate=0.001,\n",
    "                             n_estimators=n,\n",
    "                             verbosity=0,\n",
    "                             objective='reg:squarederror', # reg:linear reg:squarederror\n",
    "                             booster='gbtree', # gblinear gbtree\n",
    "                             tree_method='auto',\n",
    "                             n_jobs=1,\n",
    "                             gamma=3,\n",
    "                             min_child_weight=0,\n",
    "                             max_delta_step=0,\n",
    "                             subsample=0.7,\n",
    "                             colsample_bytree=0.6,\n",
    "                             colsample_bylevel=1,\n",
    "                             colsample_bynode=1,\n",
    "                             reg_alpha=3,\n",
    "                             reg_lambda=5,\n",
    "                             scale_pos_weight=1,\n",
    "                             random_state=123,\n",
    "                             missing=None,\n",
    "                             num_parallel_tree=1,\n",
    "                             importance_type='gain'\n",
    "                            )\n",
    "\n",
    "xgb_model.fit(train_data_modeling_transformed, y_train_data_modeling.values,\n",
    "              eval_set=[(train_data_modeling_transformed, y_train_data_modeling.values), (val_data_modeling_transformed, y_val_data_modeling.values)],\n",
    "#               sample_weight = weight_array,\n",
    "              eval_metric=['mae', 'rmse'],\n",
    "              verbose=False\n",
    "             )\n",
    "\n",
    "evals_result = xgb_model.evals_result()"
   ]
  },
  {
   "cell_type": "code",
   "execution_count": 34,
   "metadata": {
    "ExecuteTime": {
     "end_time": "2020-01-21T01:51:20.926343Z",
     "start_time": "2020-01-21T01:51:20.545879Z"
    },
    "scrolled": false
   },
   "outputs": [
    {
     "data": {
      "image/png": "[encoded data removed]",
      "text/plain": [
       "<Figure size 432x288 with 1 Axes>"
      ]
     },
     "metadata": {
      "needs_background": "light"
     },
     "output_type": "display_data"
    },
    {
     "data": {
      "image/png": "[encoded data removed]",
      "text/plain": [
       "<Figure size 432x288 with 1 Axes>"
      ]
     },
     "metadata": {
      "needs_background": "light"
     },
     "output_type": "display_data"
    }
   ],
   "source": [
    "import matplotlib.pyplot as plt\n",
    "%matplotlib inline\n",
    "\n",
    "plt.clf()\n",
    "plt.subplot(211)\n",
    "x=list(range(n))\n",
    "plt.plot(x, evals_result['validation_0']['mae'], color='b', label='Train mae')\n",
    "plt.plot(x, evals_result['validation_1']['mae'], color='r', label='Validation mae')\n",
    "plt.legend()\n",
    "plt.show()\n",
    "\n",
    "plt.clf()\n",
    "plt.subplot(212)\n",
    "x=list(range(n))\n",
    "plt.plot(x, evals_result['validation_0']['rmse'], color='b', label='Train rmse')\n",
    "plt.plot(x, evals_result['validation_1']['rmse'], color='r', label='Validation rmse')\n",
    "plt.legend()\n",
    "plt.show()"
   ]
  },
  {
   "cell_type": "markdown",
   "metadata": {},
   "source": [
    "##### 5. Result analysis"
   ]
  },
  {
   "cell_type": "code",
   "execution_count": 35,
   "metadata": {
    "ExecuteTime": {
     "end_time": "2020-01-21T01:51:28.742991Z",
     "start_time": "2020-01-21T01:51:20.928958Z"
    }
   },
   "outputs": [],
   "source": [
    "prediction = xgb_model.predict(train_data_modeling_transformed)"
   ]
  },
  {
   "cell_type": "code",
   "execution_count": 36,
   "metadata": {
    "ExecuteTime": {
     "end_time": "2020-01-21T01:51:28.850275Z",
     "start_time": "2020-01-21T01:51:28.745606Z"
    }
   },
   "outputs": [
    {
     "name": "stderr",
     "output_type": "stream",
     "text": [
      "/Users/sheikhshahidurrahman/opt/anaconda3/envs/py37/lib/python3.7/site-packages/ipykernel_launcher.py:1: SettingWithCopyWarning: \n",
      "A value is trying to be set on a copy of a slice from a DataFrame.\n",
      "Try using .loc[row_indexer,col_indexer] = value instead\n",
      "\n",
      "See the caveats in the documentation: http://pandas.pydata.org/pandas-docs/stable/user_guide/indexing.html#returning-a-view-versus-a-copy\n",
      "  \"\"\"Entry point for launching an IPython kernel.\n",
      "/Users/sheikhshahidurrahman/opt/anaconda3/envs/py37/lib/python3.7/site-packages/ipykernel_launcher.py:2: SettingWithCopyWarning: \n",
      "A value is trying to be set on a copy of a slice from a DataFrame.\n",
      "Try using .loc[row_indexer,col_indexer] = value instead\n",
      "\n",
      "See the caveats in the documentation: http://pandas.pydata.org/pandas-docs/stable/user_guide/indexing.html#returning-a-view-versus-a-copy\n",
      "  \n"
     ]
    },
    {
     "data": {
      "text/html": [
       "<div>\n",
       "<style scoped>\n",
       "    .dataframe tbody tr th:only-of-type {\n",
       "        vertical-align: middle;\n",
       "    }\n",
       "\n",
       "    .dataframe tbody tr th {\n",
       "        vertical-align: top;\n",
       "    }\n",
       "\n",
       "    .dataframe thead th {\n",
       "        text-align: right;\n",
       "    }\n",
       "</style>\n",
       "<table border=\"1\" class=\"dataframe\">\n",
       "  <thead>\n",
       "    <tr style=\"text-align: right;\">\n",
       "      <th></th>\n",
       "      <th>id</th>\n",
       "      <th>X1</th>\n",
       "      <th>X2</th>\n",
       "      <th>X3</th>\n",
       "      <th>TO_minute</th>\n",
       "      <th>TO_minute_pred</th>\n",
       "      <th>error</th>\n",
       "    </tr>\n",
       "  </thead>\n",
       "  <tbody>\n",
       "    <tr>\n",
       "      <th>67415</th>\n",
       "      <td>67514</td>\n",
       "      <td>0.42</td>\n",
       "      <td>1.50</td>\n",
       "      <td>2</td>\n",
       "      <td>679.857143</td>\n",
       "      <td>679.848999</td>\n",
       "      <td>0.008144</td>\n",
       "    </tr>\n",
       "    <tr>\n",
       "      <th>85342</th>\n",
       "      <td>85467</td>\n",
       "      <td>2.14</td>\n",
       "      <td>0.80</td>\n",
       "      <td>0</td>\n",
       "      <td>656.500000</td>\n",
       "      <td>656.481689</td>\n",
       "      <td>0.018311</td>\n",
       "    </tr>\n",
       "    <tr>\n",
       "      <th>17256</th>\n",
       "      <td>17285</td>\n",
       "      <td>0.73</td>\n",
       "      <td>-0.86</td>\n",
       "      <td>0</td>\n",
       "      <td>829.333333</td>\n",
       "      <td>829.305481</td>\n",
       "      <td>0.027852</td>\n",
       "    </tr>\n",
       "    <tr>\n",
       "      <th>48431</th>\n",
       "      <td>48504</td>\n",
       "      <td>-1.00</td>\n",
       "      <td>-0.46</td>\n",
       "      <td>0</td>\n",
       "      <td>764.600000</td>\n",
       "      <td>764.627869</td>\n",
       "      <td>0.027869</td>\n",
       "    </tr>\n",
       "    <tr>\n",
       "      <th>82027</th>\n",
       "      <td>82149</td>\n",
       "      <td>2.32</td>\n",
       "      <td>-3.93</td>\n",
       "      <td>1</td>\n",
       "      <td>842.666667</td>\n",
       "      <td>842.630981</td>\n",
       "      <td>0.035685</td>\n",
       "    </tr>\n",
       "    <tr>\n",
       "      <th>98722</th>\n",
       "      <td>98870</td>\n",
       "      <td>2.09</td>\n",
       "      <td>-0.66</td>\n",
       "      <td>2</td>\n",
       "      <td>847.000000</td>\n",
       "      <td>846.954163</td>\n",
       "      <td>0.045837</td>\n",
       "    </tr>\n",
       "    <tr>\n",
       "      <th>60929</th>\n",
       "      <td>61018</td>\n",
       "      <td>0.79</td>\n",
       "      <td>-0.48</td>\n",
       "      <td>0</td>\n",
       "      <td>829.333333</td>\n",
       "      <td>829.259399</td>\n",
       "      <td>0.073934</td>\n",
       "    </tr>\n",
       "    <tr>\n",
       "      <th>20258</th>\n",
       "      <td>20290</td>\n",
       "      <td>1.21</td>\n",
       "      <td>-0.05</td>\n",
       "      <td>3</td>\n",
       "      <td>823.666667</td>\n",
       "      <td>823.746094</td>\n",
       "      <td>0.079427</td>\n",
       "    </tr>\n",
       "    <tr>\n",
       "      <th>51144</th>\n",
       "      <td>51219</td>\n",
       "      <td>0.76</td>\n",
       "      <td>-0.47</td>\n",
       "      <td>1</td>\n",
       "      <td>848.166667</td>\n",
       "      <td>848.082642</td>\n",
       "      <td>0.084025</td>\n",
       "    </tr>\n",
       "    <tr>\n",
       "      <th>13440</th>\n",
       "      <td>13462</td>\n",
       "      <td>1.43</td>\n",
       "      <td>-0.55</td>\n",
       "      <td>2</td>\n",
       "      <td>847.142857</td>\n",
       "      <td>847.231506</td>\n",
       "      <td>0.088649</td>\n",
       "    </tr>\n",
       "  </tbody>\n",
       "</table>\n",
       "</div>"
      ],
      "text/plain": [
       "          id    X1    X2  X3   TO_minute  TO_minute_pred     error\n",
       "67415  67514  0.42  1.50   2  679.857143      679.848999  0.008144\n",
       "85342  85467  2.14  0.80   0  656.500000      656.481689  0.018311\n",
       "17256  17285  0.73 -0.86   0  829.333333      829.305481  0.027852\n",
       "48431  48504 -1.00 -0.46   0  764.600000      764.627869  0.027869\n",
       "82027  82149  2.32 -3.93   1  842.666667      842.630981  0.035685\n",
       "98722  98870  2.09 -0.66   2  847.000000      846.954163  0.045837\n",
       "60929  61018  0.79 -0.48   0  829.333333      829.259399  0.073934\n",
       "20258  20290  1.21 -0.05   3  823.666667      823.746094  0.079427\n",
       "51144  51219  0.76 -0.47   1  848.166667      848.082642  0.084025\n",
       "13440  13462  1.43 -0.55   2  847.142857      847.231506  0.088649"
      ]
     },
     "execution_count": 36,
     "metadata": {},
     "output_type": "execute_result"
    }
   ],
   "source": [
    "train_data_modeling['TO_minute_pred'] = prediction\n",
    "train_data_modeling['error'] = np.abs(train_data_modeling['TO_minute'] - train_data_modeling['TO_minute_pred'])\n",
    "train_data_modeling.sort_values('error',ascending=True).head(10)"
   ]
  },
  {
   "cell_type": "code",
   "execution_count": 37,
   "metadata": {
    "ExecuteTime": {
     "end_time": "2020-01-21T01:51:29.219031Z",
     "start_time": "2020-01-21T01:51:28.853923Z"
    }
   },
   "outputs": [
    {
     "data": {
      "text/plain": [
       "<Figure size 432x288 with 0 Axes>"
      ]
     },
     "metadata": {},
     "output_type": "display_data"
    },
    {
     "data": {
      "image/png": "[encoded data removed]",
      "text/plain": [
       "<Figure size 576x576 with 1 Axes>"
      ]
     },
     "metadata": {
      "needs_background": "light"
     },
     "output_type": "display_data"
    }
   ],
   "source": [
    "## Feature importance\n",
    "all_new_columns = new_numerical_columns + new_low_card_columns\n",
    "\n",
    "importance_df = pd.Series(xgb_model.feature_importances_, index=all_new_columns).sort_values(ascending=False).head(10)\n",
    "plt.clf()\n",
    "plt.figure(figsize=(8,8))\n",
    "importance_df.sort_values(ascending=True).plot.barh()\n",
    "plt.show()"
   ]
  },
  {
   "cell_type": "code",
   "execution_count": 38,
   "metadata": {
    "ExecuteTime": {
     "end_time": "2020-01-21T01:55:36.430443Z",
     "start_time": "2020-01-21T01:51:29.222744Z"
    }
   },
   "outputs": [
    {
     "name": "stderr",
     "output_type": "stream",
     "text": [
      "Setting feature_perturbation = \"tree_path_dependent\" because no background data was given.\n"
     ]
    },
    {
     "data": {
      "image/png": "[encoded data removed]",
      "text/plain": [
       "<Figure size 576x280.8 with 2 Axes>"
      ]
     },
     "metadata": {
      "needs_background": "light"
     },
     "output_type": "display_data"
    }
   ],
   "source": [
    "import shap\n",
    "explainer = shap.TreeExplainer(xgb_model)\n",
    "shap_values = explainer.shap_values(train_data_modeling_transformed)\n",
    "shap.summary_plot(shap_values, features=train_data_modeling_transformed, feature_names=all_new_columns)\n"
   ]
  },
  {
   "cell_type": "code",
   "execution_count": 39,
   "metadata": {
    "ExecuteTime": {
     "end_time": "2020-01-21T01:55:36.741284Z",
     "start_time": "2020-01-21T01:55:36.433154Z"
    }
   },
   "outputs": [
    {
     "name": "stdout",
     "output_type": "stream",
     "text": [
      "296.5729650119655\n"
     ]
    }
   ],
   "source": [
    "print(np.sqrt(((train_data_modeling.error) ** 2).mean()))"
   ]
  },
  {
   "cell_type": "markdown",
   "metadata": {},
   "source": [
    "##### Performance on validation dataset"
   ]
  },
  {
   "cell_type": "code",
   "execution_count": 40,
   "metadata": {
    "ExecuteTime": {
     "end_time": "2020-01-21T01:55:37.976265Z",
     "start_time": "2020-01-21T01:55:36.752154Z"
    }
   },
   "outputs": [],
   "source": [
    "prediction = xgb_model.predict(val_data_modeling_transformed)"
   ]
  },
  {
   "cell_type": "code",
   "execution_count": 41,
   "metadata": {
    "ExecuteTime": {
     "end_time": "2020-01-21T01:55:38.054047Z",
     "start_time": "2020-01-21T01:55:37.978888Z"
    }
   },
   "outputs": [
    {
     "data": {
      "text/html": [
       "<div>\n",
       "<style scoped>\n",
       "    .dataframe tbody tr th:only-of-type {\n",
       "        vertical-align: middle;\n",
       "    }\n",
       "\n",
       "    .dataframe tbody tr th {\n",
       "        vertical-align: top;\n",
       "    }\n",
       "\n",
       "    .dataframe thead th {\n",
       "        text-align: right;\n",
       "    }\n",
       "</style>\n",
       "<table border=\"1\" class=\"dataframe\">\n",
       "  <thead>\n",
       "    <tr style=\"text-align: right;\">\n",
       "      <th></th>\n",
       "      <th>id</th>\n",
       "      <th>X1</th>\n",
       "      <th>X2</th>\n",
       "      <th>X3</th>\n",
       "      <th>TO_minute</th>\n",
       "      <th>TO_minute_pred</th>\n",
       "      <th>error</th>\n",
       "    </tr>\n",
       "  </thead>\n",
       "  <tbody>\n",
       "    <tr>\n",
       "      <th>76187</th>\n",
       "      <td>76301</td>\n",
       "      <td>-1.24</td>\n",
       "      <td>-0.21</td>\n",
       "      <td>1</td>\n",
       "      <td>835.000000</td>\n",
       "      <td>835.074829</td>\n",
       "      <td>0.074829</td>\n",
       "    </tr>\n",
       "    <tr>\n",
       "      <th>11386</th>\n",
       "      <td>11406</td>\n",
       "      <td>1.09</td>\n",
       "      <td>-3.80</td>\n",
       "      <td>1</td>\n",
       "      <td>847.500000</td>\n",
       "      <td>847.330261</td>\n",
       "      <td>0.169739</td>\n",
       "    </tr>\n",
       "    <tr>\n",
       "      <th>25079</th>\n",
       "      <td>25124</td>\n",
       "      <td>-1.32</td>\n",
       "      <td>0.88</td>\n",
       "      <td>3</td>\n",
       "      <td>708.000000</td>\n",
       "      <td>707.726624</td>\n",
       "      <td>0.273376</td>\n",
       "    </tr>\n",
       "    <tr>\n",
       "      <th>21688</th>\n",
       "      <td>21724</td>\n",
       "      <td>0.59</td>\n",
       "      <td>0.29</td>\n",
       "      <td>0</td>\n",
       "      <td>659.000000</td>\n",
       "      <td>659.424500</td>\n",
       "      <td>0.424500</td>\n",
       "    </tr>\n",
       "    <tr>\n",
       "      <th>93280</th>\n",
       "      <td>93414</td>\n",
       "      <td>1.98</td>\n",
       "      <td>-0.73</td>\n",
       "      <td>1</td>\n",
       "      <td>848.000000</td>\n",
       "      <td>847.535461</td>\n",
       "      <td>0.464539</td>\n",
       "    </tr>\n",
       "    <tr>\n",
       "      <th>12302</th>\n",
       "      <td>12323</td>\n",
       "      <td>0.07</td>\n",
       "      <td>4.20</td>\n",
       "      <td>3</td>\n",
       "      <td>660.500000</td>\n",
       "      <td>659.890320</td>\n",
       "      <td>0.609680</td>\n",
       "    </tr>\n",
       "    <tr>\n",
       "      <th>60530</th>\n",
       "      <td>60619</td>\n",
       "      <td>1.05</td>\n",
       "      <td>1.69</td>\n",
       "      <td>0</td>\n",
       "      <td>659.000000</td>\n",
       "      <td>658.225525</td>\n",
       "      <td>0.774475</td>\n",
       "    </tr>\n",
       "    <tr>\n",
       "      <th>33720</th>\n",
       "      <td>33776</td>\n",
       "      <td>-1.25</td>\n",
       "      <td>-1.24</td>\n",
       "      <td>3</td>\n",
       "      <td>762.000000</td>\n",
       "      <td>761.179504</td>\n",
       "      <td>0.820496</td>\n",
       "    </tr>\n",
       "    <tr>\n",
       "      <th>27416</th>\n",
       "      <td>27465</td>\n",
       "      <td>0.96</td>\n",
       "      <td>0.72</td>\n",
       "      <td>3</td>\n",
       "      <td>654.666667</td>\n",
       "      <td>655.616760</td>\n",
       "      <td>0.950094</td>\n",
       "    </tr>\n",
       "    <tr>\n",
       "      <th>89030</th>\n",
       "      <td>89159</td>\n",
       "      <td>-1.75</td>\n",
       "      <td>-1.46</td>\n",
       "      <td>0</td>\n",
       "      <td>767.500000</td>\n",
       "      <td>766.525146</td>\n",
       "      <td>0.974854</td>\n",
       "    </tr>\n",
       "  </tbody>\n",
       "</table>\n",
       "</div>"
      ],
      "text/plain": [
       "          id    X1    X2  X3   TO_minute  TO_minute_pred     error\n",
       "76187  76301 -1.24 -0.21   1  835.000000      835.074829  0.074829\n",
       "11386  11406  1.09 -3.80   1  847.500000      847.330261  0.169739\n",
       "25079  25124 -1.32  0.88   3  708.000000      707.726624  0.273376\n",
       "21688  21724  0.59  0.29   0  659.000000      659.424500  0.424500\n",
       "93280  93414  1.98 -0.73   1  848.000000      847.535461  0.464539\n",
       "12302  12323  0.07  4.20   3  660.500000      659.890320  0.609680\n",
       "60530  60619  1.05  1.69   0  659.000000      658.225525  0.774475\n",
       "33720  33776 -1.25 -1.24   3  762.000000      761.179504  0.820496\n",
       "27416  27465  0.96  0.72   3  654.666667      655.616760  0.950094\n",
       "89030  89159 -1.75 -1.46   0  767.500000      766.525146  0.974854"
      ]
     },
     "execution_count": 41,
     "metadata": {},
     "output_type": "execute_result"
    }
   ],
   "source": [
    "val_data_modeling['TO_minute_pred'] = prediction\n",
    "val_data_modeling['error'] = np.abs(val_data_modeling['TO_minute'] - val_data_modeling['TO_minute_pred'])\n",
    "val_data_modeling.sort_values('error',ascending=True).head(10)"
   ]
  },
  {
   "cell_type": "code",
   "execution_count": 42,
   "metadata": {
    "ExecuteTime": {
     "end_time": "2020-01-21T01:55:38.122605Z",
     "start_time": "2020-01-21T01:55:38.057276Z"
    }
   },
   "outputs": [
    {
     "name": "stdout",
     "output_type": "stream",
     "text": [
      "294.60010018528556\n"
     ]
    }
   ],
   "source": [
    "print(np.sqrt(((val_data_modeling.error) ** 2).mean()))"
   ]
  },
  {
   "cell_type": "markdown",
   "metadata": {},
   "source": [
    "##### Performance on test dataset"
   ]
  },
  {
   "cell_type": "code",
   "execution_count": 43,
   "metadata": {
    "ExecuteTime": {
     "end_time": "2020-01-21T01:55:39.272038Z",
     "start_time": "2020-01-21T01:55:38.126753Z"
    }
   },
   "outputs": [],
   "source": [
    "prediction = xgb_model.predict(test_data_modeling_transformed)"
   ]
  },
  {
   "cell_type": "code",
   "execution_count": 44,
   "metadata": {
    "ExecuteTime": {
     "end_time": "2020-01-21T01:55:39.357459Z",
     "start_time": "2020-01-21T01:55:39.274793Z"
    }
   },
   "outputs": [
    {
     "data": {
      "text/html": [
       "<div>\n",
       "<style scoped>\n",
       "    .dataframe tbody tr th:only-of-type {\n",
       "        vertical-align: middle;\n",
       "    }\n",
       "\n",
       "    .dataframe tbody tr th {\n",
       "        vertical-align: top;\n",
       "    }\n",
       "\n",
       "    .dataframe thead th {\n",
       "        text-align: right;\n",
       "    }\n",
       "</style>\n",
       "<table border=\"1\" class=\"dataframe\">\n",
       "  <thead>\n",
       "    <tr style=\"text-align: right;\">\n",
       "      <th></th>\n",
       "      <th>id</th>\n",
       "      <th>X1</th>\n",
       "      <th>X2</th>\n",
       "      <th>X3</th>\n",
       "      <th>TO_minute</th>\n",
       "      <th>TO_minute_pred</th>\n",
       "      <th>error</th>\n",
       "    </tr>\n",
       "  </thead>\n",
       "  <tbody>\n",
       "    <tr>\n",
       "      <th>77513</th>\n",
       "      <td>77627</td>\n",
       "      <td>0.01</td>\n",
       "      <td>1.67</td>\n",
       "      <td>1</td>\n",
       "      <td>676.000000</td>\n",
       "      <td>676.082153</td>\n",
       "      <td>0.082153</td>\n",
       "    </tr>\n",
       "    <tr>\n",
       "      <th>62606</th>\n",
       "      <td>62697</td>\n",
       "      <td>-1.49</td>\n",
       "      <td>-2.38</td>\n",
       "      <td>3</td>\n",
       "      <td>761.000000</td>\n",
       "      <td>761.199585</td>\n",
       "      <td>0.199585</td>\n",
       "    </tr>\n",
       "    <tr>\n",
       "      <th>77782</th>\n",
       "      <td>77896</td>\n",
       "      <td>1.27</td>\n",
       "      <td>-0.85</td>\n",
       "      <td>0</td>\n",
       "      <td>828.833333</td>\n",
       "      <td>829.085876</td>\n",
       "      <td>0.252543</td>\n",
       "    </tr>\n",
       "    <tr>\n",
       "      <th>20812</th>\n",
       "      <td>20845</td>\n",
       "      <td>1.47</td>\n",
       "      <td>-1.28</td>\n",
       "      <td>3</td>\n",
       "      <td>823.000000</td>\n",
       "      <td>822.732788</td>\n",
       "      <td>0.267212</td>\n",
       "    </tr>\n",
       "    <tr>\n",
       "      <th>85798</th>\n",
       "      <td>85924</td>\n",
       "      <td>0.32</td>\n",
       "      <td>-0.89</td>\n",
       "      <td>1</td>\n",
       "      <td>849.333333</td>\n",
       "      <td>848.674194</td>\n",
       "      <td>0.659139</td>\n",
       "    </tr>\n",
       "    <tr>\n",
       "      <th>7213</th>\n",
       "      <td>7227</td>\n",
       "      <td>0.06</td>\n",
       "      <td>-0.35</td>\n",
       "      <td>1</td>\n",
       "      <td>846.833333</td>\n",
       "      <td>846.029175</td>\n",
       "      <td>0.804159</td>\n",
       "    </tr>\n",
       "    <tr>\n",
       "      <th>69923</th>\n",
       "      <td>70026</td>\n",
       "      <td>0.84</td>\n",
       "      <td>-0.65</td>\n",
       "      <td>1</td>\n",
       "      <td>847.250000</td>\n",
       "      <td>848.059631</td>\n",
       "      <td>0.809631</td>\n",
       "    </tr>\n",
       "    <tr>\n",
       "      <th>26828</th>\n",
       "      <td>26876</td>\n",
       "      <td>0.68</td>\n",
       "      <td>-0.40</td>\n",
       "      <td>2</td>\n",
       "      <td>846.500000</td>\n",
       "      <td>847.475037</td>\n",
       "      <td>0.975037</td>\n",
       "    </tr>\n",
       "    <tr>\n",
       "      <th>39124</th>\n",
       "      <td>39186</td>\n",
       "      <td>0.45</td>\n",
       "      <td>0.91</td>\n",
       "      <td>1</td>\n",
       "      <td>678.500000</td>\n",
       "      <td>677.474243</td>\n",
       "      <td>1.025757</td>\n",
       "    </tr>\n",
       "    <tr>\n",
       "      <th>33281</th>\n",
       "      <td>33337</td>\n",
       "      <td>1.13</td>\n",
       "      <td>0.19</td>\n",
       "      <td>2</td>\n",
       "      <td>681.000000</td>\n",
       "      <td>679.915527</td>\n",
       "      <td>1.084473</td>\n",
       "    </tr>\n",
       "  </tbody>\n",
       "</table>\n",
       "</div>"
      ],
      "text/plain": [
       "          id    X1    X2  X3   TO_minute  TO_minute_pred     error\n",
       "77513  77627  0.01  1.67   1  676.000000      676.082153  0.082153\n",
       "62606  62697 -1.49 -2.38   3  761.000000      761.199585  0.199585\n",
       "77782  77896  1.27 -0.85   0  828.833333      829.085876  0.252543\n",
       "20812  20845  1.47 -1.28   3  823.000000      822.732788  0.267212\n",
       "85798  85924  0.32 -0.89   1  849.333333      848.674194  0.659139\n",
       "7213    7227  0.06 -0.35   1  846.833333      846.029175  0.804159\n",
       "69923  70026  0.84 -0.65   1  847.250000      848.059631  0.809631\n",
       "26828  26876  0.68 -0.40   2  846.500000      847.475037  0.975037\n",
       "39124  39186  0.45  0.91   1  678.500000      677.474243  1.025757\n",
       "33281  33337  1.13  0.19   2  681.000000      679.915527  1.084473"
      ]
     },
     "execution_count": 44,
     "metadata": {},
     "output_type": "execute_result"
    }
   ],
   "source": [
    "test_data_modeling['TO_minute_pred'] = prediction\n",
    "test_data_modeling['error'] = np.abs(test_data_modeling['TO_minute'] - test_data_modeling['TO_minute_pred'])\n",
    "test_data_modeling.sort_values('error',ascending=True).head(10)"
   ]
  },
  {
   "cell_type": "code",
   "execution_count": 45,
   "metadata": {
    "ExecuteTime": {
     "end_time": "2020-01-21T01:55:39.441049Z",
     "start_time": "2020-01-21T01:55:39.361947Z"
    }
   },
   "outputs": [
    {
     "name": "stdout",
     "output_type": "stream",
     "text": [
      "296.370587219137\n"
     ]
    }
   ],
   "source": [
    "print(np.sqrt(((test_data_modeling.error) ** 2).mean()))"
   ]
  },
  {
   "cell_type": "markdown",
   "metadata": {},
   "source": [
    "##### 6. Save files for package creation"
   ]
  },
  {
   "cell_type": "code",
   "execution_count": 46,
   "metadata": {
    "ExecuteTime": {
     "end_time": "2020-01-21T01:55:39.503319Z",
     "start_time": "2020-01-21T01:55:39.444186Z"
    }
   },
   "outputs": [
    {
     "name": "stdout",
     "output_type": "stream",
     "text": [
      "{'X1': <class 'float'>, 'X2': <class 'float'>, 'X3': <class 'float'>}\n"
     ]
    }
   ],
   "source": [
    "## Saving data type for future incoming data points\n",
    "from pairfinance.helper_functions.utils import dtype_mapping\n",
    "dtype_mapping_output = dtype_mapping(numeric_columns=numerical_columns+low_cardinal_columns_before,\n",
    "                              boolean_columns=[],\n",
    "                              string_columns=[]\n",
    "                             )\n",
    "print(dtype_mapping_output)"
   ]
  },
  {
   "cell_type": "code",
   "execution_count": 47,
   "metadata": {
    "ExecuteTime": {
     "end_time": "2020-01-21T01:55:39.579373Z",
     "start_time": "2020-01-21T01:55:39.506055Z"
    }
   },
   "outputs": [
    {
     "name": "stdout",
     "output_type": "stream",
     "text": [
      "{\"id\":74545.0,\"X1\":-1.78,\"X2\":2.4,\"X3\":1.0,\"TO_minute\":520.0,\"TO_minute_pred\":779.7887573242,\"error\":259.7887573242}\n"
     ]
    }
   ],
   "source": [
    "from pairfinance.helper_functions.utils import check_input_data_type\n",
    "import json\n",
    "\n",
    "json_data = test_data_modeling.iloc[0].to_json()\n",
    "print(json_data)\n",
    "tt = pd.DataFrame.from_dict([json.loads(json_data)])\n",
    "\n",
    "check_input_data_type(tt, dtype_mapping_output)"
   ]
  },
  {
   "cell_type": "code",
   "execution_count": 48,
   "metadata": {
    "ExecuteTime": {
     "end_time": "2020-01-21T01:55:39.684995Z",
     "start_time": "2020-01-21T01:55:39.582954Z"
    }
   },
   "outputs": [],
   "source": [
    "import pickle \n",
    "all_files = selected_columns, numerical_columns, low_cardinal_columns_before, low_cardinal_columns_after, dtype_mapping_output, train_pipeline, xgb_model\n",
    "with open('/Users/sheikhshahidurrahman/Documents/DataScience/Pair_Finance/pairfinance/pairfinance/model_files_v0.pkl','wb') as f:\n",
    "    pickle.dump(all_files ,f)"
   ]
  },
  {
   "cell_type": "code",
   "execution_count": null,
   "metadata": {},
   "outputs": [],
   "source": []
  },
  {
   "cell_type": "code",
   "execution_count": null,
   "metadata": {},
   "outputs": [],
   "source": []
  },
  {
   "cell_type": "code",
   "execution_count": null,
   "metadata": {},
   "outputs": [],
   "source": []
  },
  {
   "cell_type": "code",
   "execution_count": 49,
   "metadata": {
    "ExecuteTime": {
     "end_time": "2020-01-21T02:04:40.554208Z",
     "start_time": "2020-01-21T02:04:40.152743Z"
    }
   },
   "outputs": [
    {
     "data": {
      "text/plain": [
       "'/Users/sheikhshahidurrahman/Documents/DataScience/Pair_Finance/pairfinance/pairfinance/notebooks'"
      ]
     },
     "execution_count": 49,
     "metadata": {},
     "output_type": "execute_result"
    }
   ],
   "source": []
  },
  {
   "cell_type": "code",
   "execution_count": null,
   "metadata": {},
   "outputs": [],
   "source": []
  }
 ],
 "metadata": {
  "kernelspec": {
   "display_name": "Python 3",
   "language": "python",
   "name": "python3"
  },
  "language_info": {
   "codemirror_mode": {
    "name": "ipython",
    "version": 3
   },
   "file_extension": ".py",
   "mimetype": "text/x-python",
   "name": "python",
   "nbconvert_exporter": "python",
   "pygments_lexer": "ipython3",
   "version": "3.7.5"
  }
 },
 "nbformat": 4,
 "nbformat_minor": 2
}
